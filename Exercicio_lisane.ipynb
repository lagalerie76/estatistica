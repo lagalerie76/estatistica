{
  "nbformat": 4,
  "nbformat_minor": 0,
  "metadata": {
    "colab": {
      "provenance": [],
      "collapsed_sections": [],
      "include_colab_link": true
    },
    "kernelspec": {
      "name": "python3",
      "display_name": "Python 3"
    },
    "language_info": {
      "name": "python"
    }
  },
  "cells": [
    {
      "cell_type": "markdown",
      "metadata": {
        "id": "view-in-github",
        "colab_type": "text"
      },
      "source": [
        "<a href=\"https://colab.research.google.com/github/lagalerie76/estatistica/blob/main/Exercicio_lisane.ipynb\" target=\"_parent\"><img src=\"https://colab.research.google.com/assets/colab-badge.svg\" alt=\"Open In Colab\"/></a>"
      ]
    },
    {
      "cell_type": "code",
      "source": [
        "# Instalação do pacote\n",
        "!pip install semopy"
      ],
      "metadata": {
        "id": "Ks13wwwI98zl",
        "colab": {
          "base_uri": "https://localhost:8080/"
        },
        "outputId": "e30fbbfe-151b-4833-e35c-9c956d31e792"
      },
      "execution_count": null,
      "outputs": [
        {
          "output_type": "stream",
          "name": "stdout",
          "text": [
            "Looking in indexes: https://pypi.org/simple, https://us-python.pkg.dev/colab-wheels/public/simple/\n",
            "Requirement already satisfied: semopy in /usr/local/lib/python3.7/dist-packages (2.3.9)\n",
            "Requirement already satisfied: sklearn in /usr/local/lib/python3.7/dist-packages (from semopy) (0.0)\n",
            "Requirement already satisfied: pandas in /usr/local/lib/python3.7/dist-packages (from semopy) (1.3.5)\n",
            "Requirement already satisfied: sympy in /usr/local/lib/python3.7/dist-packages (from semopy) (1.7.1)\n",
            "Requirement already satisfied: statsmodels in /usr/local/lib/python3.7/dist-packages (from semopy) (0.12.2)\n",
            "Requirement already satisfied: numpy in /usr/local/lib/python3.7/dist-packages (from semopy) (1.21.6)\n",
            "Requirement already satisfied: scipy in /usr/local/lib/python3.7/dist-packages (from semopy) (1.7.3)\n",
            "Requirement already satisfied: pytz>=2017.3 in /usr/local/lib/python3.7/dist-packages (from pandas->semopy) (2022.5)\n",
            "Requirement already satisfied: python-dateutil>=2.7.3 in /usr/local/lib/python3.7/dist-packages (from pandas->semopy) (2.8.2)\n",
            "Requirement already satisfied: six>=1.5 in /usr/local/lib/python3.7/dist-packages (from python-dateutil>=2.7.3->pandas->semopy) (1.15.0)\n",
            "Requirement already satisfied: scikit-learn in /usr/local/lib/python3.7/dist-packages (from sklearn->semopy) (1.0.2)\n",
            "Requirement already satisfied: joblib>=0.11 in /usr/local/lib/python3.7/dist-packages (from scikit-learn->sklearn->semopy) (1.2.0)\n",
            "Requirement already satisfied: threadpoolctl>=2.0.0 in /usr/local/lib/python3.7/dist-packages (from scikit-learn->sklearn->semopy) (3.1.0)\n",
            "Requirement already satisfied: patsy>=0.5 in /usr/local/lib/python3.7/dist-packages (from statsmodels->semopy) (0.5.3)\n",
            "Requirement already satisfied: mpmath>=0.19 in /usr/local/lib/python3.7/dist-packages (from sympy->semopy) (1.2.1)\n"
          ]
        }
      ]
    },
    {
      "cell_type": "code",
      "source": [],
      "metadata": {
        "id": "fDDc4yV0sONp"
      },
      "execution_count": null,
      "outputs": []
    },
    {
      "cell_type": "code",
      "execution_count": null,
      "metadata": {
        "colab": {
          "base_uri": "https://localhost:8080/"
        },
        "id": "zVpVvQHbxUhq",
        "outputId": "d2c6c08f-1283-4cb1-c5aa-a57091f4aeaf"
      },
      "outputs": [
        {
          "output_type": "stream",
          "name": "stdout",
          "text": [
            "Downloading...\n",
            "From: https://drive.google.com/uc?id=1UhjA0-4Fp-oi1pY-kli8sWe2DD3v4z2P\n",
            "To: /content/exercicio path (1).xlsx\n",
            "\r  0% 0.00/27.6k [00:00<?, ?B/s]\r100% 27.6k/27.6k [00:00<00:00, 23.0MB/s]\n"
          ]
        }
      ],
      "source": [
        "#baixando os dados do excel\n",
        "!gdown 1UhjA0-4Fp-oi1pY-kli8sWe2DD3v4z2P"
      ]
    },
    {
      "cell_type": "code",
      "source": [
        "import pandas as pd\n",
        "from IPython import display\n",
        "\n",
        "tabela = pd.read_excel('/content/exercicio path (1).xlsx')\n",
        "tabela.head()"
      ],
      "metadata": {
        "colab": {
          "base_uri": "https://localhost:8080/",
          "height": 206
        },
        "id": "llPHehXpx_-s",
        "outputId": "879bdda4-c420-464f-86a2-e89d414ddbc6"
      },
      "execution_count": null,
      "outputs": [
        {
          "output_type": "execute_result",
          "data": {
            "text/plain": [
              "   id  Idade     genero     ALOC  Professor  Curso  Design  Tecnologia  \\\n",
              "0   1     33  Masculino  Interno        6.6    7.2     3.6         6.6   \n",
              "1   2     24   Feminino  Interno        9.5    9.4     9.3         9.9   \n",
              "2   3     30  Masculino  Interno        6.9    8.8     8.3         7.7   \n",
              "3   4     46   Feminino  Interno        6.5    4.4     5.9         6.7   \n",
              "4   5     28   Feminino  Interno        5.8    7.1     7.6         4.9   \n",
              "\n",
              "   Interacao  Satisfacao  Aprendizagem  \n",
              "0        6.3         7.4           5.3  \n",
              "1        9.4         9.9           9.6  \n",
              "2        6.7         9.3           8.3  \n",
              "3        6.1         6.8           4.7  \n",
              "4        4.2         8.6           5.1  "
            ],
            "text/html": [
              "\n",
              "  <div id=\"df-7885ea2b-e2b3-4272-956c-1df4ddb71da9\">\n",
              "    <div class=\"colab-df-container\">\n",
              "      <div>\n",
              "<style scoped>\n",
              "    .dataframe tbody tr th:only-of-type {\n",
              "        vertical-align: middle;\n",
              "    }\n",
              "\n",
              "    .dataframe tbody tr th {\n",
              "        vertical-align: top;\n",
              "    }\n",
              "\n",
              "    .dataframe thead th {\n",
              "        text-align: right;\n",
              "    }\n",
              "</style>\n",
              "<table border=\"1\" class=\"dataframe\">\n",
              "  <thead>\n",
              "    <tr style=\"text-align: right;\">\n",
              "      <th></th>\n",
              "      <th>id</th>\n",
              "      <th>Idade</th>\n",
              "      <th>genero</th>\n",
              "      <th>ALOC</th>\n",
              "      <th>Professor</th>\n",
              "      <th>Curso</th>\n",
              "      <th>Design</th>\n",
              "      <th>Tecnologia</th>\n",
              "      <th>Interacao</th>\n",
              "      <th>Satisfacao</th>\n",
              "      <th>Aprendizagem</th>\n",
              "    </tr>\n",
              "  </thead>\n",
              "  <tbody>\n",
              "    <tr>\n",
              "      <th>0</th>\n",
              "      <td>1</td>\n",
              "      <td>33</td>\n",
              "      <td>Masculino</td>\n",
              "      <td>Interno</td>\n",
              "      <td>6.6</td>\n",
              "      <td>7.2</td>\n",
              "      <td>3.6</td>\n",
              "      <td>6.6</td>\n",
              "      <td>6.3</td>\n",
              "      <td>7.4</td>\n",
              "      <td>5.3</td>\n",
              "    </tr>\n",
              "    <tr>\n",
              "      <th>1</th>\n",
              "      <td>2</td>\n",
              "      <td>24</td>\n",
              "      <td>Feminino</td>\n",
              "      <td>Interno</td>\n",
              "      <td>9.5</td>\n",
              "      <td>9.4</td>\n",
              "      <td>9.3</td>\n",
              "      <td>9.9</td>\n",
              "      <td>9.4</td>\n",
              "      <td>9.9</td>\n",
              "      <td>9.6</td>\n",
              "    </tr>\n",
              "    <tr>\n",
              "      <th>2</th>\n",
              "      <td>3</td>\n",
              "      <td>30</td>\n",
              "      <td>Masculino</td>\n",
              "      <td>Interno</td>\n",
              "      <td>6.9</td>\n",
              "      <td>8.8</td>\n",
              "      <td>8.3</td>\n",
              "      <td>7.7</td>\n",
              "      <td>6.7</td>\n",
              "      <td>9.3</td>\n",
              "      <td>8.3</td>\n",
              "    </tr>\n",
              "    <tr>\n",
              "      <th>3</th>\n",
              "      <td>4</td>\n",
              "      <td>46</td>\n",
              "      <td>Feminino</td>\n",
              "      <td>Interno</td>\n",
              "      <td>6.5</td>\n",
              "      <td>4.4</td>\n",
              "      <td>5.9</td>\n",
              "      <td>6.7</td>\n",
              "      <td>6.1</td>\n",
              "      <td>6.8</td>\n",
              "      <td>4.7</td>\n",
              "    </tr>\n",
              "    <tr>\n",
              "      <th>4</th>\n",
              "      <td>5</td>\n",
              "      <td>28</td>\n",
              "      <td>Feminino</td>\n",
              "      <td>Interno</td>\n",
              "      <td>5.8</td>\n",
              "      <td>7.1</td>\n",
              "      <td>7.6</td>\n",
              "      <td>4.9</td>\n",
              "      <td>4.2</td>\n",
              "      <td>8.6</td>\n",
              "      <td>5.1</td>\n",
              "    </tr>\n",
              "  </tbody>\n",
              "</table>\n",
              "</div>\n",
              "      <button class=\"colab-df-convert\" onclick=\"convertToInteractive('df-7885ea2b-e2b3-4272-956c-1df4ddb71da9')\"\n",
              "              title=\"Convert this dataframe to an interactive table.\"\n",
              "              style=\"display:none;\">\n",
              "        \n",
              "  <svg xmlns=\"http://www.w3.org/2000/svg\" height=\"24px\"viewBox=\"0 0 24 24\"\n",
              "       width=\"24px\">\n",
              "    <path d=\"M0 0h24v24H0V0z\" fill=\"none\"/>\n",
              "    <path d=\"M18.56 5.44l.94 2.06.94-2.06 2.06-.94-2.06-.94-.94-2.06-.94 2.06-2.06.94zm-11 1L8.5 8.5l.94-2.06 2.06-.94-2.06-.94L8.5 2.5l-.94 2.06-2.06.94zm10 10l.94 2.06.94-2.06 2.06-.94-2.06-.94-.94-2.06-.94 2.06-2.06.94z\"/><path d=\"M17.41 7.96l-1.37-1.37c-.4-.4-.92-.59-1.43-.59-.52 0-1.04.2-1.43.59L10.3 9.45l-7.72 7.72c-.78.78-.78 2.05 0 2.83L4 21.41c.39.39.9.59 1.41.59.51 0 1.02-.2 1.41-.59l7.78-7.78 2.81-2.81c.8-.78.8-2.07 0-2.86zM5.41 20L4 18.59l7.72-7.72 1.47 1.35L5.41 20z\"/>\n",
              "  </svg>\n",
              "      </button>\n",
              "      \n",
              "  <style>\n",
              "    .colab-df-container {\n",
              "      display:flex;\n",
              "      flex-wrap:wrap;\n",
              "      gap: 12px;\n",
              "    }\n",
              "\n",
              "    .colab-df-convert {\n",
              "      background-color: #E8F0FE;\n",
              "      border: none;\n",
              "      border-radius: 50%;\n",
              "      cursor: pointer;\n",
              "      display: none;\n",
              "      fill: #1967D2;\n",
              "      height: 32px;\n",
              "      padding: 0 0 0 0;\n",
              "      width: 32px;\n",
              "    }\n",
              "\n",
              "    .colab-df-convert:hover {\n",
              "      background-color: #E2EBFA;\n",
              "      box-shadow: 0px 1px 2px rgba(60, 64, 67, 0.3), 0px 1px 3px 1px rgba(60, 64, 67, 0.15);\n",
              "      fill: #174EA6;\n",
              "    }\n",
              "\n",
              "    [theme=dark] .colab-df-convert {\n",
              "      background-color: #3B4455;\n",
              "      fill: #D2E3FC;\n",
              "    }\n",
              "\n",
              "    [theme=dark] .colab-df-convert:hover {\n",
              "      background-color: #434B5C;\n",
              "      box-shadow: 0px 1px 3px 1px rgba(0, 0, 0, 0.15);\n",
              "      filter: drop-shadow(0px 1px 2px rgba(0, 0, 0, 0.3));\n",
              "      fill: #FFFFFF;\n",
              "    }\n",
              "  </style>\n",
              "\n",
              "      <script>\n",
              "        const buttonEl =\n",
              "          document.querySelector('#df-7885ea2b-e2b3-4272-956c-1df4ddb71da9 button.colab-df-convert');\n",
              "        buttonEl.style.display =\n",
              "          google.colab.kernel.accessAllowed ? 'block' : 'none';\n",
              "\n",
              "        async function convertToInteractive(key) {\n",
              "          const element = document.querySelector('#df-7885ea2b-e2b3-4272-956c-1df4ddb71da9');\n",
              "          const dataTable =\n",
              "            await google.colab.kernel.invokeFunction('convertToInteractive',\n",
              "                                                     [key], {});\n",
              "          if (!dataTable) return;\n",
              "\n",
              "          const docLinkHtml = 'Like what you see? Visit the ' +\n",
              "            '<a target=\"_blank\" href=https://colab.research.google.com/notebooks/data_table.ipynb>data table notebook</a>'\n",
              "            + ' to learn more about interactive tables.';\n",
              "          element.innerHTML = '';\n",
              "          dataTable['output_type'] = 'display_data';\n",
              "          await google.colab.output.renderOutput(dataTable, element);\n",
              "          const docLink = document.createElement('div');\n",
              "          docLink.innerHTML = docLinkHtml;\n",
              "          element.appendChild(docLink);\n",
              "        }\n",
              "      </script>\n",
              "    </div>\n",
              "  </div>\n",
              "  "
            ]
          },
          "metadata": {},
          "execution_count": 25
        }
      ]
    },
    {
      "cell_type": "code",
      "source": [
        "colunas = ['Professor', 'Curso', 'Design', 'Tecnologia', 'Interacao', 'Satisfacao', 'Aprendizagem']\n",
        "\n",
        "tabela[ colunas ].head() # mostra as 5 primeiras linhas"
      ],
      "metadata": {
        "colab": {
          "base_uri": "https://localhost:8080/",
          "height": 206
        },
        "id": "tn-hW9fIyPu-",
        "outputId": "a72b5357-0ce7-4d87-f45d-70d58774f576"
      },
      "execution_count": null,
      "outputs": [
        {
          "output_type": "execute_result",
          "data": {
            "text/plain": [
              "   Professor  Curso  Design  Tecnologia  Interacao  Satisfacao  Aprendizagem\n",
              "0        6.6    7.2     3.6         6.6        6.3         7.4           5.3\n",
              "1        9.5    9.4     9.3         9.9        9.4         9.9           9.6\n",
              "2        6.9    8.8     8.3         7.7        6.7         9.3           8.3\n",
              "3        6.5    4.4     5.9         6.7        6.1         6.8           4.7\n",
              "4        5.8    7.1     7.6         4.9        4.2         8.6           5.1"
            ],
            "text/html": [
              "\n",
              "  <div id=\"df-2318d402-2f4b-4fc8-8556-6c76639a2ac4\">\n",
              "    <div class=\"colab-df-container\">\n",
              "      <div>\n",
              "<style scoped>\n",
              "    .dataframe tbody tr th:only-of-type {\n",
              "        vertical-align: middle;\n",
              "    }\n",
              "\n",
              "    .dataframe tbody tr th {\n",
              "        vertical-align: top;\n",
              "    }\n",
              "\n",
              "    .dataframe thead th {\n",
              "        text-align: right;\n",
              "    }\n",
              "</style>\n",
              "<table border=\"1\" class=\"dataframe\">\n",
              "  <thead>\n",
              "    <tr style=\"text-align: right;\">\n",
              "      <th></th>\n",
              "      <th>Professor</th>\n",
              "      <th>Curso</th>\n",
              "      <th>Design</th>\n",
              "      <th>Tecnologia</th>\n",
              "      <th>Interacao</th>\n",
              "      <th>Satisfacao</th>\n",
              "      <th>Aprendizagem</th>\n",
              "    </tr>\n",
              "  </thead>\n",
              "  <tbody>\n",
              "    <tr>\n",
              "      <th>0</th>\n",
              "      <td>6.6</td>\n",
              "      <td>7.2</td>\n",
              "      <td>3.6</td>\n",
              "      <td>6.6</td>\n",
              "      <td>6.3</td>\n",
              "      <td>7.4</td>\n",
              "      <td>5.3</td>\n",
              "    </tr>\n",
              "    <tr>\n",
              "      <th>1</th>\n",
              "      <td>9.5</td>\n",
              "      <td>9.4</td>\n",
              "      <td>9.3</td>\n",
              "      <td>9.9</td>\n",
              "      <td>9.4</td>\n",
              "      <td>9.9</td>\n",
              "      <td>9.6</td>\n",
              "    </tr>\n",
              "    <tr>\n",
              "      <th>2</th>\n",
              "      <td>6.9</td>\n",
              "      <td>8.8</td>\n",
              "      <td>8.3</td>\n",
              "      <td>7.7</td>\n",
              "      <td>6.7</td>\n",
              "      <td>9.3</td>\n",
              "      <td>8.3</td>\n",
              "    </tr>\n",
              "    <tr>\n",
              "      <th>3</th>\n",
              "      <td>6.5</td>\n",
              "      <td>4.4</td>\n",
              "      <td>5.9</td>\n",
              "      <td>6.7</td>\n",
              "      <td>6.1</td>\n",
              "      <td>6.8</td>\n",
              "      <td>4.7</td>\n",
              "    </tr>\n",
              "    <tr>\n",
              "      <th>4</th>\n",
              "      <td>5.8</td>\n",
              "      <td>7.1</td>\n",
              "      <td>7.6</td>\n",
              "      <td>4.9</td>\n",
              "      <td>4.2</td>\n",
              "      <td>8.6</td>\n",
              "      <td>5.1</td>\n",
              "    </tr>\n",
              "  </tbody>\n",
              "</table>\n",
              "</div>\n",
              "      <button class=\"colab-df-convert\" onclick=\"convertToInteractive('df-2318d402-2f4b-4fc8-8556-6c76639a2ac4')\"\n",
              "              title=\"Convert this dataframe to an interactive table.\"\n",
              "              style=\"display:none;\">\n",
              "        \n",
              "  <svg xmlns=\"http://www.w3.org/2000/svg\" height=\"24px\"viewBox=\"0 0 24 24\"\n",
              "       width=\"24px\">\n",
              "    <path d=\"M0 0h24v24H0V0z\" fill=\"none\"/>\n",
              "    <path d=\"M18.56 5.44l.94 2.06.94-2.06 2.06-.94-2.06-.94-.94-2.06-.94 2.06-2.06.94zm-11 1L8.5 8.5l.94-2.06 2.06-.94-2.06-.94L8.5 2.5l-.94 2.06-2.06.94zm10 10l.94 2.06.94-2.06 2.06-.94-2.06-.94-.94-2.06-.94 2.06-2.06.94z\"/><path d=\"M17.41 7.96l-1.37-1.37c-.4-.4-.92-.59-1.43-.59-.52 0-1.04.2-1.43.59L10.3 9.45l-7.72 7.72c-.78.78-.78 2.05 0 2.83L4 21.41c.39.39.9.59 1.41.59.51 0 1.02-.2 1.41-.59l7.78-7.78 2.81-2.81c.8-.78.8-2.07 0-2.86zM5.41 20L4 18.59l7.72-7.72 1.47 1.35L5.41 20z\"/>\n",
              "  </svg>\n",
              "      </button>\n",
              "      \n",
              "  <style>\n",
              "    .colab-df-container {\n",
              "      display:flex;\n",
              "      flex-wrap:wrap;\n",
              "      gap: 12px;\n",
              "    }\n",
              "\n",
              "    .colab-df-convert {\n",
              "      background-color: #E8F0FE;\n",
              "      border: none;\n",
              "      border-radius: 50%;\n",
              "      cursor: pointer;\n",
              "      display: none;\n",
              "      fill: #1967D2;\n",
              "      height: 32px;\n",
              "      padding: 0 0 0 0;\n",
              "      width: 32px;\n",
              "    }\n",
              "\n",
              "    .colab-df-convert:hover {\n",
              "      background-color: #E2EBFA;\n",
              "      box-shadow: 0px 1px 2px rgba(60, 64, 67, 0.3), 0px 1px 3px 1px rgba(60, 64, 67, 0.15);\n",
              "      fill: #174EA6;\n",
              "    }\n",
              "\n",
              "    [theme=dark] .colab-df-convert {\n",
              "      background-color: #3B4455;\n",
              "      fill: #D2E3FC;\n",
              "    }\n",
              "\n",
              "    [theme=dark] .colab-df-convert:hover {\n",
              "      background-color: #434B5C;\n",
              "      box-shadow: 0px 1px 3px 1px rgba(0, 0, 0, 0.15);\n",
              "      filter: drop-shadow(0px 1px 2px rgba(0, 0, 0, 0.3));\n",
              "      fill: #FFFFFF;\n",
              "    }\n",
              "  </style>\n",
              "\n",
              "      <script>\n",
              "        const buttonEl =\n",
              "          document.querySelector('#df-2318d402-2f4b-4fc8-8556-6c76639a2ac4 button.colab-df-convert');\n",
              "        buttonEl.style.display =\n",
              "          google.colab.kernel.accessAllowed ? 'block' : 'none';\n",
              "\n",
              "        async function convertToInteractive(key) {\n",
              "          const element = document.querySelector('#df-2318d402-2f4b-4fc8-8556-6c76639a2ac4');\n",
              "          const dataTable =\n",
              "            await google.colab.kernel.invokeFunction('convertToInteractive',\n",
              "                                                     [key], {});\n",
              "          if (!dataTable) return;\n",
              "\n",
              "          const docLinkHtml = 'Like what you see? Visit the ' +\n",
              "            '<a target=\"_blank\" href=https://colab.research.google.com/notebooks/data_table.ipynb>data table notebook</a>'\n",
              "            + ' to learn more about interactive tables.';\n",
              "          element.innerHTML = '';\n",
              "          dataTable['output_type'] = 'display_data';\n",
              "          await google.colab.output.renderOutput(dataTable, element);\n",
              "          const docLink = document.createElement('div');\n",
              "          docLink.innerHTML = docLinkHtml;\n",
              "          element.appendChild(docLink);\n",
              "        }\n",
              "      </script>\n",
              "    </div>\n",
              "  </div>\n",
              "  "
            ]
          },
          "metadata": {},
          "execution_count": 26
        }
      ]
    },
    {
      "cell_type": "code",
      "source": [
        "tabela[ colunas ].corr() # correlação entre todas as variáveis"
      ],
      "metadata": {
        "colab": {
          "base_uri": "https://localhost:8080/",
          "height": 269
        },
        "id": "eszjNw9d5OAA",
        "outputId": "fdb217a9-df44-4e6b-a026-bc90d176d0be"
      },
      "execution_count": null,
      "outputs": [
        {
          "output_type": "execute_result",
          "data": {
            "text/plain": [
              "              Professor     Curso    Design  Tecnologia  Interacao  \\\n",
              "Professor      1.000000  0.698520  0.666092    0.574275   0.731593   \n",
              "Curso          0.698520  1.000000  0.787956    0.484048   0.600883   \n",
              "Design         0.666092  0.787956  1.000000    0.640373   0.613569   \n",
              "Tecnologia     0.574275  0.484048  0.640373    1.000000   0.607153   \n",
              "Interacao      0.731593  0.600883  0.613569    0.607153   1.000000   \n",
              "Satisfacao     0.689848  0.859512  0.772872    0.560064   0.709523   \n",
              "Aprendizagem   0.624066  0.766186  0.715759    0.480205   0.754506   \n",
              "\n",
              "              Satisfacao  Aprendizagem  \n",
              "Professor       0.689848      0.624066  \n",
              "Curso           0.859512      0.766186  \n",
              "Design          0.772872      0.715759  \n",
              "Tecnologia      0.560064      0.480205  \n",
              "Interacao       0.709523      0.754506  \n",
              "Satisfacao      1.000000      0.814815  \n",
              "Aprendizagem    0.814815      1.000000  "
            ],
            "text/html": [
              "\n",
              "  <div id=\"df-ea8355d7-68b6-44fa-8ee0-f42465953f1d\">\n",
              "    <div class=\"colab-df-container\">\n",
              "      <div>\n",
              "<style scoped>\n",
              "    .dataframe tbody tr th:only-of-type {\n",
              "        vertical-align: middle;\n",
              "    }\n",
              "\n",
              "    .dataframe tbody tr th {\n",
              "        vertical-align: top;\n",
              "    }\n",
              "\n",
              "    .dataframe thead th {\n",
              "        text-align: right;\n",
              "    }\n",
              "</style>\n",
              "<table border=\"1\" class=\"dataframe\">\n",
              "  <thead>\n",
              "    <tr style=\"text-align: right;\">\n",
              "      <th></th>\n",
              "      <th>Professor</th>\n",
              "      <th>Curso</th>\n",
              "      <th>Design</th>\n",
              "      <th>Tecnologia</th>\n",
              "      <th>Interacao</th>\n",
              "      <th>Satisfacao</th>\n",
              "      <th>Aprendizagem</th>\n",
              "    </tr>\n",
              "  </thead>\n",
              "  <tbody>\n",
              "    <tr>\n",
              "      <th>Professor</th>\n",
              "      <td>1.000000</td>\n",
              "      <td>0.698520</td>\n",
              "      <td>0.666092</td>\n",
              "      <td>0.574275</td>\n",
              "      <td>0.731593</td>\n",
              "      <td>0.689848</td>\n",
              "      <td>0.624066</td>\n",
              "    </tr>\n",
              "    <tr>\n",
              "      <th>Curso</th>\n",
              "      <td>0.698520</td>\n",
              "      <td>1.000000</td>\n",
              "      <td>0.787956</td>\n",
              "      <td>0.484048</td>\n",
              "      <td>0.600883</td>\n",
              "      <td>0.859512</td>\n",
              "      <td>0.766186</td>\n",
              "    </tr>\n",
              "    <tr>\n",
              "      <th>Design</th>\n",
              "      <td>0.666092</td>\n",
              "      <td>0.787956</td>\n",
              "      <td>1.000000</td>\n",
              "      <td>0.640373</td>\n",
              "      <td>0.613569</td>\n",
              "      <td>0.772872</td>\n",
              "      <td>0.715759</td>\n",
              "    </tr>\n",
              "    <tr>\n",
              "      <th>Tecnologia</th>\n",
              "      <td>0.574275</td>\n",
              "      <td>0.484048</td>\n",
              "      <td>0.640373</td>\n",
              "      <td>1.000000</td>\n",
              "      <td>0.607153</td>\n",
              "      <td>0.560064</td>\n",
              "      <td>0.480205</td>\n",
              "    </tr>\n",
              "    <tr>\n",
              "      <th>Interacao</th>\n",
              "      <td>0.731593</td>\n",
              "      <td>0.600883</td>\n",
              "      <td>0.613569</td>\n",
              "      <td>0.607153</td>\n",
              "      <td>1.000000</td>\n",
              "      <td>0.709523</td>\n",
              "      <td>0.754506</td>\n",
              "    </tr>\n",
              "    <tr>\n",
              "      <th>Satisfacao</th>\n",
              "      <td>0.689848</td>\n",
              "      <td>0.859512</td>\n",
              "      <td>0.772872</td>\n",
              "      <td>0.560064</td>\n",
              "      <td>0.709523</td>\n",
              "      <td>1.000000</td>\n",
              "      <td>0.814815</td>\n",
              "    </tr>\n",
              "    <tr>\n",
              "      <th>Aprendizagem</th>\n",
              "      <td>0.624066</td>\n",
              "      <td>0.766186</td>\n",
              "      <td>0.715759</td>\n",
              "      <td>0.480205</td>\n",
              "      <td>0.754506</td>\n",
              "      <td>0.814815</td>\n",
              "      <td>1.000000</td>\n",
              "    </tr>\n",
              "  </tbody>\n",
              "</table>\n",
              "</div>\n",
              "      <button class=\"colab-df-convert\" onclick=\"convertToInteractive('df-ea8355d7-68b6-44fa-8ee0-f42465953f1d')\"\n",
              "              title=\"Convert this dataframe to an interactive table.\"\n",
              "              style=\"display:none;\">\n",
              "        \n",
              "  <svg xmlns=\"http://www.w3.org/2000/svg\" height=\"24px\"viewBox=\"0 0 24 24\"\n",
              "       width=\"24px\">\n",
              "    <path d=\"M0 0h24v24H0V0z\" fill=\"none\"/>\n",
              "    <path d=\"M18.56 5.44l.94 2.06.94-2.06 2.06-.94-2.06-.94-.94-2.06-.94 2.06-2.06.94zm-11 1L8.5 8.5l.94-2.06 2.06-.94-2.06-.94L8.5 2.5l-.94 2.06-2.06.94zm10 10l.94 2.06.94-2.06 2.06-.94-2.06-.94-.94-2.06-.94 2.06-2.06.94z\"/><path d=\"M17.41 7.96l-1.37-1.37c-.4-.4-.92-.59-1.43-.59-.52 0-1.04.2-1.43.59L10.3 9.45l-7.72 7.72c-.78.78-.78 2.05 0 2.83L4 21.41c.39.39.9.59 1.41.59.51 0 1.02-.2 1.41-.59l7.78-7.78 2.81-2.81c.8-.78.8-2.07 0-2.86zM5.41 20L4 18.59l7.72-7.72 1.47 1.35L5.41 20z\"/>\n",
              "  </svg>\n",
              "      </button>\n",
              "      \n",
              "  <style>\n",
              "    .colab-df-container {\n",
              "      display:flex;\n",
              "      flex-wrap:wrap;\n",
              "      gap: 12px;\n",
              "    }\n",
              "\n",
              "    .colab-df-convert {\n",
              "      background-color: #E8F0FE;\n",
              "      border: none;\n",
              "      border-radius: 50%;\n",
              "      cursor: pointer;\n",
              "      display: none;\n",
              "      fill: #1967D2;\n",
              "      height: 32px;\n",
              "      padding: 0 0 0 0;\n",
              "      width: 32px;\n",
              "    }\n",
              "\n",
              "    .colab-df-convert:hover {\n",
              "      background-color: #E2EBFA;\n",
              "      box-shadow: 0px 1px 2px rgba(60, 64, 67, 0.3), 0px 1px 3px 1px rgba(60, 64, 67, 0.15);\n",
              "      fill: #174EA6;\n",
              "    }\n",
              "\n",
              "    [theme=dark] .colab-df-convert {\n",
              "      background-color: #3B4455;\n",
              "      fill: #D2E3FC;\n",
              "    }\n",
              "\n",
              "    [theme=dark] .colab-df-convert:hover {\n",
              "      background-color: #434B5C;\n",
              "      box-shadow: 0px 1px 3px 1px rgba(0, 0, 0, 0.15);\n",
              "      filter: drop-shadow(0px 1px 2px rgba(0, 0, 0, 0.3));\n",
              "      fill: #FFFFFF;\n",
              "    }\n",
              "  </style>\n",
              "\n",
              "      <script>\n",
              "        const buttonEl =\n",
              "          document.querySelector('#df-ea8355d7-68b6-44fa-8ee0-f42465953f1d button.colab-df-convert');\n",
              "        buttonEl.style.display =\n",
              "          google.colab.kernel.accessAllowed ? 'block' : 'none';\n",
              "\n",
              "        async function convertToInteractive(key) {\n",
              "          const element = document.querySelector('#df-ea8355d7-68b6-44fa-8ee0-f42465953f1d');\n",
              "          const dataTable =\n",
              "            await google.colab.kernel.invokeFunction('convertToInteractive',\n",
              "                                                     [key], {});\n",
              "          if (!dataTable) return;\n",
              "\n",
              "          const docLinkHtml = 'Like what you see? Visit the ' +\n",
              "            '<a target=\"_blank\" href=https://colab.research.google.com/notebooks/data_table.ipynb>data table notebook</a>'\n",
              "            + ' to learn more about interactive tables.';\n",
              "          element.innerHTML = '';\n",
              "          dataTable['output_type'] = 'display_data';\n",
              "          await google.colab.output.renderOutput(dataTable, element);\n",
              "          const docLink = document.createElement('div');\n",
              "          docLink.innerHTML = docLinkHtml;\n",
              "          element.appendChild(docLink);\n",
              "        }\n",
              "      </script>\n",
              "    </div>\n",
              "  </div>\n",
              "  "
            ]
          },
          "metadata": {},
          "execution_count": 27
        }
      ]
    },
    {
      "cell_type": "markdown",
      "source": [
        "# Modelo 1"
      ],
      "metadata": {
        "id": "obdGl0GDnV2e"
      }
    },
    {
      "cell_type": "markdown",
      "source": [
        "![image.png](data:image/png;base64,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)"
      ],
      "metadata": {
        "id": "HAdm-pmf46Lh"
      }
    },
    {
      "cell_type": "code",
      "source": [
        "import semopy\n",
        "\n",
        "# define full measurement and structural model\n",
        "modelo_1 = \"\"\"\n",
        "Aprendizagem ~ Professor\n",
        "Aprendizagem ~ Curso\n",
        "Aprendizagem ~ Design\n",
        "Aprendizagem ~ Tecnologia\n",
        "Aprendizagem ~ Interacao\n",
        "\n",
        "Satisfacao ~ Aprendizagem\n",
        "\"\"\"\n",
        "\n",
        "modelo_completo_1 = semopy.Model(modelo_1)\n",
        "resultado_modelo_1 = modelo_completo_1.fit(tabela)\n",
        "print(resultado_modelo_1)"
      ],
      "metadata": {
        "colab": {
          "base_uri": "https://localhost:8080/"
        },
        "id": "h-b7ONBfB4tG",
        "outputId": "8c5998e5-3da7-4ad8-e808-e6bdec18c428"
      },
      "execution_count": null,
      "outputs": [
        {
          "output_type": "stream",
          "name": "stdout",
          "text": [
            "Name of objective: MLW\n",
            "Optimization method: SLSQP\n",
            "Optimization successful.\n",
            "Optimization terminated successfully\n",
            "Objective value: 0.629\n",
            "Number of iterations: 16\n",
            "Params: -0.184 0.463 0.229 -0.124 0.639 0.861 3.438 2.334\n"
          ]
        }
      ]
    },
    {
      "cell_type": "code",
      "source": [
        "ins = modelo_completo_1.inspect()\n",
        "print(ins)"
      ],
      "metadata": {
        "colab": {
          "base_uri": "https://localhost:8080/"
        },
        "outputId": "859b4a30-2e44-4266-dd31-5a52722c120d",
        "id": "NLmeEnAFB4tI"
      },
      "execution_count": null,
      "outputs": [
        {
          "output_type": "stream",
          "name": "stdout",
          "text": [
            "           lval  op          rval  Estimate  Std. Err    z-value   p-value\n",
            "0  Aprendizagem   ~     Professor -0.183824  0.057286  -3.208875  0.001333\n",
            "1  Aprendizagem   ~         Curso  0.463037  0.054928   8.429935  0.000000\n",
            "2  Aprendizagem   ~        Design  0.229493  0.056979   4.027674  0.000056\n",
            "3  Aprendizagem   ~    Tecnologia -0.124445  0.048006  -2.592269  0.009535\n",
            "4  Aprendizagem   ~     Interacao  0.639233  0.053338  11.984494  0.000000\n",
            "5    Satisfacao   ~  Aprendizagem  0.861298  0.034812  24.741082  0.000000\n",
            "6  Aprendizagem  ~~  Aprendizagem  2.333686  0.187446  12.449900  0.000000\n",
            "7    Satisfacao  ~~    Satisfacao  3.437953  0.276143  12.449900  0.000000\n"
          ]
        }
      ]
    },
    {
      "cell_type": "code",
      "source": [
        "semopy.calc_stats(modelo_completo_1)"
      ],
      "metadata": {
        "colab": {
          "base_uri": "https://localhost:8080/",
          "height": 81
        },
        "id": "bTl1AI94HU3c",
        "outputId": "e957ba04-72c4-4050-e7da-efccded3efcf"
      },
      "execution_count": null,
      "outputs": [
        {
          "output_type": "execute_result",
          "data": {
            "text/plain": [
              "       DoF  DoF Baseline       chi2  chi2 p-value  chi2 Baseline       CFI  \\\n",
              "Value   20            26  194.99397           0.0    1961.531767  0.909589   \n",
              "\n",
              "            GFI      AGFI       NFI       TLI     RMSEA        AIC        BIC  \\\n",
              "Value  0.900591  0.870768  0.900591  0.882465  0.168274  14.741974  44.634553   \n",
              "\n",
              "         LogLik  \n",
              "Value  0.629013  "
            ],
            "text/html": [
              "\n",
              "  <div id=\"df-3481c17e-4bb2-4d7d-b30f-bec21874fbc6\">\n",
              "    <div class=\"colab-df-container\">\n",
              "      <div>\n",
              "<style scoped>\n",
              "    .dataframe tbody tr th:only-of-type {\n",
              "        vertical-align: middle;\n",
              "    }\n",
              "\n",
              "    .dataframe tbody tr th {\n",
              "        vertical-align: top;\n",
              "    }\n",
              "\n",
              "    .dataframe thead th {\n",
              "        text-align: right;\n",
              "    }\n",
              "</style>\n",
              "<table border=\"1\" class=\"dataframe\">\n",
              "  <thead>\n",
              "    <tr style=\"text-align: right;\">\n",
              "      <th></th>\n",
              "      <th>DoF</th>\n",
              "      <th>DoF Baseline</th>\n",
              "      <th>chi2</th>\n",
              "      <th>chi2 p-value</th>\n",
              "      <th>chi2 Baseline</th>\n",
              "      <th>CFI</th>\n",
              "      <th>GFI</th>\n",
              "      <th>AGFI</th>\n",
              "      <th>NFI</th>\n",
              "      <th>TLI</th>\n",
              "      <th>RMSEA</th>\n",
              "      <th>AIC</th>\n",
              "      <th>BIC</th>\n",
              "      <th>LogLik</th>\n",
              "    </tr>\n",
              "  </thead>\n",
              "  <tbody>\n",
              "    <tr>\n",
              "      <th>Value</th>\n",
              "      <td>20</td>\n",
              "      <td>26</td>\n",
              "      <td>194.99397</td>\n",
              "      <td>0.0</td>\n",
              "      <td>1961.531767</td>\n",
              "      <td>0.909589</td>\n",
              "      <td>0.900591</td>\n",
              "      <td>0.870768</td>\n",
              "      <td>0.900591</td>\n",
              "      <td>0.882465</td>\n",
              "      <td>0.168274</td>\n",
              "      <td>14.741974</td>\n",
              "      <td>44.634553</td>\n",
              "      <td>0.629013</td>\n",
              "    </tr>\n",
              "  </tbody>\n",
              "</table>\n",
              "</div>\n",
              "      <button class=\"colab-df-convert\" onclick=\"convertToInteractive('df-3481c17e-4bb2-4d7d-b30f-bec21874fbc6')\"\n",
              "              title=\"Convert this dataframe to an interactive table.\"\n",
              "              style=\"display:none;\">\n",
              "        \n",
              "  <svg xmlns=\"http://www.w3.org/2000/svg\" height=\"24px\"viewBox=\"0 0 24 24\"\n",
              "       width=\"24px\">\n",
              "    <path d=\"M0 0h24v24H0V0z\" fill=\"none\"/>\n",
              "    <path d=\"M18.56 5.44l.94 2.06.94-2.06 2.06-.94-2.06-.94-.94-2.06-.94 2.06-2.06.94zm-11 1L8.5 8.5l.94-2.06 2.06-.94-2.06-.94L8.5 2.5l-.94 2.06-2.06.94zm10 10l.94 2.06.94-2.06 2.06-.94-2.06-.94-.94-2.06-.94 2.06-2.06.94z\"/><path d=\"M17.41 7.96l-1.37-1.37c-.4-.4-.92-.59-1.43-.59-.52 0-1.04.2-1.43.59L10.3 9.45l-7.72 7.72c-.78.78-.78 2.05 0 2.83L4 21.41c.39.39.9.59 1.41.59.51 0 1.02-.2 1.41-.59l7.78-7.78 2.81-2.81c.8-.78.8-2.07 0-2.86zM5.41 20L4 18.59l7.72-7.72 1.47 1.35L5.41 20z\"/>\n",
              "  </svg>\n",
              "      </button>\n",
              "      \n",
              "  <style>\n",
              "    .colab-df-container {\n",
              "      display:flex;\n",
              "      flex-wrap:wrap;\n",
              "      gap: 12px;\n",
              "    }\n",
              "\n",
              "    .colab-df-convert {\n",
              "      background-color: #E8F0FE;\n",
              "      border: none;\n",
              "      border-radius: 50%;\n",
              "      cursor: pointer;\n",
              "      display: none;\n",
              "      fill: #1967D2;\n",
              "      height: 32px;\n",
              "      padding: 0 0 0 0;\n",
              "      width: 32px;\n",
              "    }\n",
              "\n",
              "    .colab-df-convert:hover {\n",
              "      background-color: #E2EBFA;\n",
              "      box-shadow: 0px 1px 2px rgba(60, 64, 67, 0.3), 0px 1px 3px 1px rgba(60, 64, 67, 0.15);\n",
              "      fill: #174EA6;\n",
              "    }\n",
              "\n",
              "    [theme=dark] .colab-df-convert {\n",
              "      background-color: #3B4455;\n",
              "      fill: #D2E3FC;\n",
              "    }\n",
              "\n",
              "    [theme=dark] .colab-df-convert:hover {\n",
              "      background-color: #434B5C;\n",
              "      box-shadow: 0px 1px 3px 1px rgba(0, 0, 0, 0.15);\n",
              "      filter: drop-shadow(0px 1px 2px rgba(0, 0, 0, 0.3));\n",
              "      fill: #FFFFFF;\n",
              "    }\n",
              "  </style>\n",
              "\n",
              "      <script>\n",
              "        const buttonEl =\n",
              "          document.querySelector('#df-3481c17e-4bb2-4d7d-b30f-bec21874fbc6 button.colab-df-convert');\n",
              "        buttonEl.style.display =\n",
              "          google.colab.kernel.accessAllowed ? 'block' : 'none';\n",
              "\n",
              "        async function convertToInteractive(key) {\n",
              "          const element = document.querySelector('#df-3481c17e-4bb2-4d7d-b30f-bec21874fbc6');\n",
              "          const dataTable =\n",
              "            await google.colab.kernel.invokeFunction('convertToInteractive',\n",
              "                                                     [key], {});\n",
              "          if (!dataTable) return;\n",
              "\n",
              "          const docLinkHtml = 'Like what you see? Visit the ' +\n",
              "            '<a target=\"_blank\" href=https://colab.research.google.com/notebooks/data_table.ipynb>data table notebook</a>'\n",
              "            + ' to learn more about interactive tables.';\n",
              "          element.innerHTML = '';\n",
              "          dataTable['output_type'] = 'display_data';\n",
              "          await google.colab.output.renderOutput(dataTable, element);\n",
              "          const docLink = document.createElement('div');\n",
              "          docLink.innerHTML = docLinkHtml;\n",
              "          element.appendChild(docLink);\n",
              "        }\n",
              "      </script>\n",
              "    </div>\n",
              "  </div>\n",
              "  "
            ]
          },
          "metadata": {},
          "execution_count": 30
        }
      ]
    },
    {
      "cell_type": "code",
      "source": [
        "g = semopy.semplot(modelo_completo_1, \"model1.png\")\n",
        "display.display(g)"
      ],
      "metadata": {
        "colab": {
          "base_uri": "https://localhost:8080/",
          "height": 341
        },
        "id": "FERhZhbkB23J",
        "outputId": "b130e6d4-88dc-4076-bd15-3a168b7b5a6f"
      },
      "execution_count": null,
      "outputs": [
        {
          "output_type": "display_data",
          "data": {
            "text/plain": [
              "<graphviz.dot.Digraph at 0x7f1b6211cc50>"
            ],
            "image/svg+xml": "<?xml version=\"1.0\" encoding=\"UTF-8\" standalone=\"no\"?>\n<!DOCTYPE svg PUBLIC \"-//W3C//DTD SVG 1.1//EN\"\n \"http://www.w3.org/Graphics/SVG/1.1/DTD/svg11.dtd\">\n<!-- Generated by graphviz version 2.40.1 (20161225.0304)\n -->\n<!-- Title: G Pages: 1 -->\n<svg width=\"410pt\" height=\"240pt\"\n viewBox=\"0.00 0.00 410.00 240.00\" xmlns=\"http://www.w3.org/2000/svg\" xmlns:xlink=\"http://www.w3.org/1999/xlink\">\n<g id=\"graph0\" class=\"graph\" transform=\"scale(1 1) rotate(0) translate(4 236)\">\n<title>G</title>\n<polygon fill=\"#ffffff\" stroke=\"transparent\" points=\"-4,4 -4,-236 406,-236 406,4 -4,4\"/>\n<!-- Satisfacao -->\n<g id=\"node1\" class=\"node\">\n<title>Satisfacao</title>\n<polygon fill=\"none\" stroke=\"#000000\" points=\"219,-36 145,-36 145,0 219,0 219,-36\"/>\n<text text-anchor=\"middle\" x=\"182\" y=\"-14.3\" font-family=\"Times,serif\" font-size=\"14.00\" fill=\"#000000\">Satisfacao</text>\n</g>\n<!-- Aprendizagem -->\n<g id=\"node2\" class=\"node\">\n<title>Aprendizagem</title>\n<polygon fill=\"none\" stroke=\"#000000\" points=\"232.5,-134 131.5,-134 131.5,-98 232.5,-98 232.5,-134\"/>\n<text text-anchor=\"middle\" x=\"182\" y=\"-112.3\" font-family=\"Times,serif\" font-size=\"14.00\" fill=\"#000000\">Aprendizagem</text>\n</g>\n<!-- Aprendizagem&#45;&gt;Satisfacao -->\n<g id=\"edge6\" class=\"edge\">\n<title>Aprendizagem&#45;&gt;Satisfacao</title>\n<path fill=\"none\" stroke=\"#000000\" d=\"M182,-97.5669C182,-83.1034 182,-62.7239 182,-46.2111\"/>\n<polygon fill=\"#000000\" stroke=\"#000000\" points=\"185.5001,-46.0193 182,-36.0193 178.5001,-46.0193 185.5001,-46.0193\"/>\n<text text-anchor=\"middle\" x=\"208\" y=\"-70.4\" font-family=\"Times,serif\" font-size=\"12.00\" fill=\"#000000\">0.861</text>\n<text text-anchor=\"middle\" x=\"208\" y=\"-57.4\" font-family=\"Times,serif\" font-size=\"12.00\" fill=\"#000000\">p&#45;val: 0.00</text>\n</g>\n<!-- Curso -->\n<g id=\"node3\" class=\"node\">\n<title>Curso</title>\n<polygon fill=\"none\" stroke=\"#000000\" points=\"54,-232 0,-232 0,-196 54,-196 54,-232\"/>\n<text text-anchor=\"middle\" x=\"27\" y=\"-210.3\" font-family=\"Times,serif\" font-size=\"14.00\" fill=\"#000000\">Curso</text>\n</g>\n<!-- Curso&#45;&gt;Aprendizagem -->\n<g id=\"edge2\" class=\"edge\">\n<title>Curso&#45;&gt;Aprendizagem</title>\n<path fill=\"none\" stroke=\"#000000\" d=\"M30.8319,-195.7319C34.6685,-181.8411 41.939,-163.2584 55,-152 65.3968,-143.0381 93.871,-134.5809 121.2284,-128.1182\"/>\n<polygon fill=\"#000000\" stroke=\"#000000\" points=\"122.2547,-131.4739 131.2213,-125.8302 120.6924,-124.6504 122.2547,-131.4739\"/>\n<text text-anchor=\"middle\" x=\"81\" y=\"-168.4\" font-family=\"Times,serif\" font-size=\"12.00\" fill=\"#000000\">0.463</text>\n<text text-anchor=\"middle\" x=\"81\" y=\"-155.4\" font-family=\"Times,serif\" font-size=\"12.00\" fill=\"#000000\">p&#45;val: 0.00</text>\n</g>\n<!-- Design -->\n<g id=\"node4\" class=\"node\">\n<title>Design</title>\n<polygon fill=\"none\" stroke=\"#000000\" points=\"129.5,-232 72.5,-232 72.5,-196 129.5,-196 129.5,-232\"/>\n<text text-anchor=\"middle\" x=\"101\" y=\"-210.3\" font-family=\"Times,serif\" font-size=\"14.00\" fill=\"#000000\">Design</text>\n</g>\n<!-- Design&#45;&gt;Aprendizagem -->\n<g id=\"edge3\" class=\"edge\">\n<title>Design&#45;&gt;Aprendizagem</title>\n<path fill=\"none\" stroke=\"#000000\" d=\"M105.1275,-195.8977C108.8575,-182.6329 115.4181,-164.7855 126,-152 129.5464,-147.715 133.7385,-143.7689 138.2082,-140.1856\"/>\n<polygon fill=\"#000000\" stroke=\"#000000\" points=\"140.4736,-142.8648 146.4738,-134.1327 136.3378,-137.2171 140.4736,-142.8648\"/>\n<text text-anchor=\"middle\" x=\"152\" y=\"-168.4\" font-family=\"Times,serif\" font-size=\"12.00\" fill=\"#000000\">0.229</text>\n<text text-anchor=\"middle\" x=\"152\" y=\"-155.4\" font-family=\"Times,serif\" font-size=\"12.00\" fill=\"#000000\">p&#45;val: 0.00</text>\n</g>\n<!-- Interacao -->\n<g id=\"node5\" class=\"node\">\n<title>Interacao</title>\n<polygon fill=\"none\" stroke=\"#000000\" points=\"216,-232 148,-232 148,-196 216,-196 216,-232\"/>\n<text text-anchor=\"middle\" x=\"182\" y=\"-210.3\" font-family=\"Times,serif\" font-size=\"14.00\" fill=\"#000000\">Interacao</text>\n</g>\n<!-- Interacao&#45;&gt;Aprendizagem -->\n<g id=\"edge5\" class=\"edge\">\n<title>Interacao&#45;&gt;Aprendizagem</title>\n<path fill=\"none\" stroke=\"#000000\" d=\"M182,-195.5669C182,-181.1034 182,-160.7239 182,-144.2111\"/>\n<polygon fill=\"#000000\" stroke=\"#000000\" points=\"185.5001,-144.0193 182,-134.0193 178.5001,-144.0193 185.5001,-144.0193\"/>\n<text text-anchor=\"middle\" x=\"208\" y=\"-168.4\" font-family=\"Times,serif\" font-size=\"12.00\" fill=\"#000000\">0.639</text>\n<text text-anchor=\"middle\" x=\"208\" y=\"-155.4\" font-family=\"Times,serif\" font-size=\"12.00\" fill=\"#000000\">p&#45;val: 0.00</text>\n</g>\n<!-- Professor -->\n<g id=\"node6\" class=\"node\">\n<title>Professor</title>\n<polygon fill=\"none\" stroke=\"#000000\" points=\"304,-232 234,-232 234,-196 304,-196 304,-232\"/>\n<text text-anchor=\"middle\" x=\"269\" y=\"-210.3\" font-family=\"Times,serif\" font-size=\"14.00\" fill=\"#000000\">Professor</text>\n</g>\n<!-- Professor&#45;&gt;Aprendizagem -->\n<g id=\"edge1\" class=\"edge\">\n<title>Professor&#45;&gt;Aprendizagem</title>\n<path fill=\"none\" stroke=\"#000000\" d=\"M262.9319,-195.9096C257.8218,-182.651 249.4962,-164.806 238,-152 234.0925,-147.6473 229.5413,-143.6086 224.7537,-139.9299\"/>\n<polygon fill=\"#000000\" stroke=\"#000000\" points=\"226.7217,-137.0346 216.5452,-134.0869 222.6623,-142.7374 226.7217,-137.0346\"/>\n<text text-anchor=\"middle\" x=\"280\" y=\"-168.4\" font-family=\"Times,serif\" font-size=\"12.00\" fill=\"#000000\">&#45;0.184</text>\n<text text-anchor=\"middle\" x=\"280\" y=\"-155.4\" font-family=\"Times,serif\" font-size=\"12.00\" fill=\"#000000\">p&#45;val: 0.00</text>\n</g>\n<!-- Tecnologia -->\n<g id=\"node7\" class=\"node\">\n<title>Tecnologia</title>\n<polygon fill=\"none\" stroke=\"#000000\" points=\"402,-232 322,-232 322,-196 402,-196 402,-232\"/>\n<text text-anchor=\"middle\" x=\"362\" y=\"-210.3\" font-family=\"Times,serif\" font-size=\"14.00\" fill=\"#000000\">Tecnologia</text>\n</g>\n<!-- Tecnologia&#45;&gt;Aprendizagem -->\n<g id=\"edge4\" class=\"edge\">\n<title>Tecnologia&#45;&gt;Aprendizagem</title>\n<path fill=\"none\" stroke=\"#000000\" d=\"M351.181,-195.946C341.9178,-181.9852 327.347,-163.2055 310,-152 289.8151,-138.9614 264.8817,-130.574 242.3988,-125.2112\"/>\n<polygon fill=\"#000000\" stroke=\"#000000\" points=\"243.1244,-121.7871 232.602,-123.0238 241.5989,-128.6188 243.1244,-121.7871\"/>\n<text text-anchor=\"middle\" x=\"363\" y=\"-168.4\" font-family=\"Times,serif\" font-size=\"12.00\" fill=\"#000000\">&#45;0.124</text>\n<text text-anchor=\"middle\" x=\"363\" y=\"-155.4\" font-family=\"Times,serif\" font-size=\"12.00\" fill=\"#000000\">p&#45;val: 0.01</text>\n</g>\n</g>\n</svg>\n"
          },
          "metadata": {}
        }
      ]
    },
    {
      "cell_type": "code",
      "source": [],
      "metadata": {
        "id": "OSvL_WkND9Ul"
      },
      "execution_count": null,
      "outputs": []
    },
    {
      "cell_type": "markdown",
      "source": [
        "# Modelo 2\n"
      ],
      "metadata": {
        "id": "aXLz6d13nejb"
      }
    },
    {
      "cell_type": "markdown",
      "source": [
        "![image.png](data:image/png;base64,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)"
      ],
      "metadata": {
        "id": "laScmhWbpB2O"
      }
    },
    {
      "cell_type": "code",
      "source": [
        "import semopy\n",
        "\n",
        "# define full measurement and structural model\n",
        "modelo_2 = \"\"\"\n",
        "Aprendizagem ~ Professor\n",
        "Satisfacao ~ Professor\n",
        "Aprendizagem ~ Curso\n",
        "Satisfacao ~ Curso\n",
        "Aprendizagem ~ Design\n",
        "Satisfacao ~ Design\n",
        "Aprendizagem ~ Tecnologia\n",
        "Satisfacao ~ Tecnologia\n",
        "Aprendizagem ~ Interacao\n",
        "Satisfacao ~ Interacao\n",
        "Satisfacao ~ Aprendizagem\n",
        "\"\"\"\n",
        "\n",
        "modelo_completo_2 = semopy.Model(modelo_2)\n",
        "resultado_modelo_2 = modelo_completo_2.fit(tabela)"
      ],
      "metadata": {
        "id": "_1tOqgWuCcbE"
      },
      "execution_count": null,
      "outputs": []
    },
    {
      "cell_type": "code",
      "source": [
        "print(resultado_modelo_2)"
      ],
      "metadata": {
        "colab": {
          "base_uri": "https://localhost:8080/"
        },
        "outputId": "bda23217-3812-4eaf-caba-226801c32943",
        "id": "PfyScd8jCcbF"
      },
      "execution_count": null,
      "outputs": [
        {
          "output_type": "stream",
          "name": "stdout",
          "text": [
            "Name of objective: MLW\n",
            "Optimization method: SLSQP\n",
            "Optimization successful.\n",
            "Optimization terminated successfully\n",
            "Objective value: 0.000\n",
            "Number of iterations: 19\n",
            "Params: -0.184 0.463 0.230 -0.125 0.640 -0.005 0.563 0.095 0.085 0.178 0.250 1.831 2.332\n"
          ]
        }
      ]
    },
    {
      "cell_type": "code",
      "source": [
        "ins = modelo_completo_2.inspect()\n",
        "print(ins)"
      ],
      "metadata": {
        "colab": {
          "base_uri": "https://localhost:8080/"
        },
        "outputId": "530c7a2a-473d-4c55-8f50-744685947bfc",
        "id": "9rfUuujXCcbG"
      },
      "execution_count": null,
      "outputs": [
        {
          "output_type": "stream",
          "name": "stdout",
          "text": [
            "            lval  op          rval  Estimate  Std. Err    z-value  \\\n",
            "0   Aprendizagem   ~     Professor -0.184160  0.057269  -3.215680   \n",
            "1   Aprendizagem   ~         Curso  0.463044  0.054912   8.432517   \n",
            "2   Aprendizagem   ~        Design  0.229556  0.056963   4.029953   \n",
            "3   Aprendizagem   ~    Tecnologia -0.124534  0.047992  -2.594875   \n",
            "4   Aprendizagem   ~     Interacao  0.639516  0.053323  11.993287   \n",
            "5     Satisfacao   ~     Professor -0.004744  0.051589  -0.091964   \n",
            "6     Satisfacao   ~         Curso  0.562522  0.053953  10.426205   \n",
            "7     Satisfacao   ~        Design  0.095019  0.051782   1.834963   \n",
            "8     Satisfacao   ~    Tecnologia  0.084691  0.042988   1.970122   \n",
            "9     Satisfacao   ~     Interacao  0.178408  0.057173   3.120514   \n",
            "10    Satisfacao   ~  Aprendizagem  0.249976  0.050330   4.966760   \n",
            "11  Aprendizagem  ~~  Aprendizagem  2.332325  0.187337  12.449900   \n",
            "12    Satisfacao  ~~    Satisfacao  1.831471  0.147107  12.449900   \n",
            "\n",
            "         p-value  \n",
            "0   1.301358e-03  \n",
            "1   0.000000e+00  \n",
            "2   5.578812e-05  \n",
            "3   9.462546e-03  \n",
            "4   0.000000e+00  \n",
            "5   9.267270e-01  \n",
            "6   0.000000e+00  \n",
            "7   6.651116e-02  \n",
            "8   4.882442e-02  \n",
            "9   1.805358e-03  \n",
            "10  6.808078e-07  \n",
            "11  0.000000e+00  \n",
            "12  0.000000e+00  \n"
          ]
        }
      ]
    },
    {
      "cell_type": "code",
      "source": [
        "semopy.calc_stats(modelo_completo_2)"
      ],
      "metadata": {
        "colab": {
          "base_uri": "https://localhost:8080/",
          "height": 81
        },
        "id": "iuOsHw0yHdbF",
        "outputId": "2d8f08ff-204a-4886-d742-a7db35a12482"
      },
      "execution_count": null,
      "outputs": [
        {
          "output_type": "execute_result",
          "data": {
            "text/plain": [
              "       DoF  DoF Baseline      chi2  chi2 p-value  chi2 Baseline      CFI  GFI  \\\n",
              "Value   15            26  0.000098           1.0    1961.531767  1.00775  1.0   \n",
              "\n",
              "       AGFI  NFI       TLI  RMSEA        AIC        BIC        LogLik  \n",
              "Value   1.0  1.0  1.013433      0  25.999999  74.575439  3.154077e-07  "
            ],
            "text/html": [
              "\n",
              "  <div id=\"df-3248a28c-bc7f-4b08-90e8-143a02ec5a05\">\n",
              "    <div class=\"colab-df-container\">\n",
              "      <div>\n",
              "<style scoped>\n",
              "    .dataframe tbody tr th:only-of-type {\n",
              "        vertical-align: middle;\n",
              "    }\n",
              "\n",
              "    .dataframe tbody tr th {\n",
              "        vertical-align: top;\n",
              "    }\n",
              "\n",
              "    .dataframe thead th {\n",
              "        text-align: right;\n",
              "    }\n",
              "</style>\n",
              "<table border=\"1\" class=\"dataframe\">\n",
              "  <thead>\n",
              "    <tr style=\"text-align: right;\">\n",
              "      <th></th>\n",
              "      <th>DoF</th>\n",
              "      <th>DoF Baseline</th>\n",
              "      <th>chi2</th>\n",
              "      <th>chi2 p-value</th>\n",
              "      <th>chi2 Baseline</th>\n",
              "      <th>CFI</th>\n",
              "      <th>GFI</th>\n",
              "      <th>AGFI</th>\n",
              "      <th>NFI</th>\n",
              "      <th>TLI</th>\n",
              "      <th>RMSEA</th>\n",
              "      <th>AIC</th>\n",
              "      <th>BIC</th>\n",
              "      <th>LogLik</th>\n",
              "    </tr>\n",
              "  </thead>\n",
              "  <tbody>\n",
              "    <tr>\n",
              "      <th>Value</th>\n",
              "      <td>15</td>\n",
              "      <td>26</td>\n",
              "      <td>0.000098</td>\n",
              "      <td>1.0</td>\n",
              "      <td>1961.531767</td>\n",
              "      <td>1.00775</td>\n",
              "      <td>1.0</td>\n",
              "      <td>1.0</td>\n",
              "      <td>1.0</td>\n",
              "      <td>1.013433</td>\n",
              "      <td>0</td>\n",
              "      <td>25.999999</td>\n",
              "      <td>74.575439</td>\n",
              "      <td>3.154077e-07</td>\n",
              "    </tr>\n",
              "  </tbody>\n",
              "</table>\n",
              "</div>\n",
              "      <button class=\"colab-df-convert\" onclick=\"convertToInteractive('df-3248a28c-bc7f-4b08-90e8-143a02ec5a05')\"\n",
              "              title=\"Convert this dataframe to an interactive table.\"\n",
              "              style=\"display:none;\">\n",
              "        \n",
              "  <svg xmlns=\"http://www.w3.org/2000/svg\" height=\"24px\"viewBox=\"0 0 24 24\"\n",
              "       width=\"24px\">\n",
              "    <path d=\"M0 0h24v24H0V0z\" fill=\"none\"/>\n",
              "    <path d=\"M18.56 5.44l.94 2.06.94-2.06 2.06-.94-2.06-.94-.94-2.06-.94 2.06-2.06.94zm-11 1L8.5 8.5l.94-2.06 2.06-.94-2.06-.94L8.5 2.5l-.94 2.06-2.06.94zm10 10l.94 2.06.94-2.06 2.06-.94-2.06-.94-.94-2.06-.94 2.06-2.06.94z\"/><path d=\"M17.41 7.96l-1.37-1.37c-.4-.4-.92-.59-1.43-.59-.52 0-1.04.2-1.43.59L10.3 9.45l-7.72 7.72c-.78.78-.78 2.05 0 2.83L4 21.41c.39.39.9.59 1.41.59.51 0 1.02-.2 1.41-.59l7.78-7.78 2.81-2.81c.8-.78.8-2.07 0-2.86zM5.41 20L4 18.59l7.72-7.72 1.47 1.35L5.41 20z\"/>\n",
              "  </svg>\n",
              "      </button>\n",
              "      \n",
              "  <style>\n",
              "    .colab-df-container {\n",
              "      display:flex;\n",
              "      flex-wrap:wrap;\n",
              "      gap: 12px;\n",
              "    }\n",
              "\n",
              "    .colab-df-convert {\n",
              "      background-color: #E8F0FE;\n",
              "      border: none;\n",
              "      border-radius: 50%;\n",
              "      cursor: pointer;\n",
              "      display: none;\n",
              "      fill: #1967D2;\n",
              "      height: 32px;\n",
              "      padding: 0 0 0 0;\n",
              "      width: 32px;\n",
              "    }\n",
              "\n",
              "    .colab-df-convert:hover {\n",
              "      background-color: #E2EBFA;\n",
              "      box-shadow: 0px 1px 2px rgba(60, 64, 67, 0.3), 0px 1px 3px 1px rgba(60, 64, 67, 0.15);\n",
              "      fill: #174EA6;\n",
              "    }\n",
              "\n",
              "    [theme=dark] .colab-df-convert {\n",
              "      background-color: #3B4455;\n",
              "      fill: #D2E3FC;\n",
              "    }\n",
              "\n",
              "    [theme=dark] .colab-df-convert:hover {\n",
              "      background-color: #434B5C;\n",
              "      box-shadow: 0px 1px 3px 1px rgba(0, 0, 0, 0.15);\n",
              "      filter: drop-shadow(0px 1px 2px rgba(0, 0, 0, 0.3));\n",
              "      fill: #FFFFFF;\n",
              "    }\n",
              "  </style>\n",
              "\n",
              "      <script>\n",
              "        const buttonEl =\n",
              "          document.querySelector('#df-3248a28c-bc7f-4b08-90e8-143a02ec5a05 button.colab-df-convert');\n",
              "        buttonEl.style.display =\n",
              "          google.colab.kernel.accessAllowed ? 'block' : 'none';\n",
              "\n",
              "        async function convertToInteractive(key) {\n",
              "          const element = document.querySelector('#df-3248a28c-bc7f-4b08-90e8-143a02ec5a05');\n",
              "          const dataTable =\n",
              "            await google.colab.kernel.invokeFunction('convertToInteractive',\n",
              "                                                     [key], {});\n",
              "          if (!dataTable) return;\n",
              "\n",
              "          const docLinkHtml = 'Like what you see? Visit the ' +\n",
              "            '<a target=\"_blank\" href=https://colab.research.google.com/notebooks/data_table.ipynb>data table notebook</a>'\n",
              "            + ' to learn more about interactive tables.';\n",
              "          element.innerHTML = '';\n",
              "          dataTable['output_type'] = 'display_data';\n",
              "          await google.colab.output.renderOutput(dataTable, element);\n",
              "          const docLink = document.createElement('div');\n",
              "          docLink.innerHTML = docLinkHtml;\n",
              "          element.appendChild(docLink);\n",
              "        }\n",
              "      </script>\n",
              "    </div>\n",
              "  </div>\n",
              "  "
            ]
          },
          "metadata": {},
          "execution_count": 35
        }
      ]
    },
    {
      "cell_type": "code",
      "source": [
        "g = semopy.semplot(modelo_completo_2, \"model2.png\")\n",
        "display.display(g)"
      ],
      "metadata": {
        "colab": {
          "base_uri": "https://localhost:8080/",
          "height": 341
        },
        "id": "aniJrZxgB28H",
        "outputId": "e71bc161-b0ed-4ca5-93d6-93cc9599578d"
      },
      "execution_count": null,
      "outputs": [
        {
          "output_type": "display_data",
          "data": {
            "text/plain": [
              "<graphviz.dot.Digraph at 0x7f1b6216e210>"
            ],
            "image/svg+xml": "<?xml version=\"1.0\" encoding=\"UTF-8\" standalone=\"no\"?>\n<!DOCTYPE svg PUBLIC \"-//W3C//DTD SVG 1.1//EN\"\n \"http://www.w3.org/Graphics/SVG/1.1/DTD/svg11.dtd\">\n<!-- Generated by graphviz version 2.40.1 (20161225.0304)\n -->\n<!-- Title: G Pages: 1 -->\n<svg width=\"567pt\" height=\"240pt\"\n viewBox=\"0.00 0.00 567.00 240.00\" xmlns=\"http://www.w3.org/2000/svg\" xmlns:xlink=\"http://www.w3.org/1999/xlink\">\n<g id=\"graph0\" class=\"graph\" transform=\"scale(1 1) rotate(0) translate(4 236)\">\n<title>G</title>\n<polygon fill=\"#ffffff\" stroke=\"transparent\" points=\"-4,4 -4,-236 563,-236 563,4 -4,4\"/>\n<!-- Satisfacao -->\n<g id=\"node1\" class=\"node\">\n<title>Satisfacao</title>\n<polygon fill=\"none\" stroke=\"#000000\" points=\"323,-36 249,-36 249,0 323,0 323,-36\"/>\n<text text-anchor=\"middle\" x=\"286\" y=\"-14.3\" font-family=\"Times,serif\" font-size=\"14.00\" fill=\"#000000\">Satisfacao</text>\n</g>\n<!-- Aprendizagem -->\n<g id=\"node2\" class=\"node\">\n<title>Aprendizagem</title>\n<polygon fill=\"none\" stroke=\"#000000\" points=\"397.5,-134 296.5,-134 296.5,-98 397.5,-98 397.5,-134\"/>\n<text text-anchor=\"middle\" x=\"347\" y=\"-112.3\" font-family=\"Times,serif\" font-size=\"14.00\" fill=\"#000000\">Aprendizagem</text>\n</g>\n<!-- Aprendizagem&#45;&gt;Satisfacao -->\n<g id=\"edge11\" class=\"edge\">\n<title>Aprendizagem&#45;&gt;Satisfacao</title>\n<path fill=\"none\" stroke=\"#000000\" d=\"M335.5264,-97.5669C326.2663,-82.6902 313.1105,-61.5545 302.685,-44.8054\"/>\n<polygon fill=\"#000000\" stroke=\"#000000\" points=\"305.4719,-42.6595 297.2161,-36.0193 299.5291,-46.3586 305.4719,-42.6595\"/>\n<text text-anchor=\"middle\" x=\"350\" y=\"-70.4\" font-family=\"Times,serif\" font-size=\"12.00\" fill=\"#000000\">0.250</text>\n<text text-anchor=\"middle\" x=\"350\" y=\"-57.4\" font-family=\"Times,serif\" font-size=\"12.00\" fill=\"#000000\">p&#45;val: 0.00</text>\n</g>\n<!-- Curso -->\n<g id=\"node3\" class=\"node\">\n<title>Curso</title>\n<polygon fill=\"none\" stroke=\"#000000\" points=\"297,-232 243,-232 243,-196 297,-196 297,-232\"/>\n<text text-anchor=\"middle\" x=\"270\" y=\"-210.3\" font-family=\"Times,serif\" font-size=\"14.00\" fill=\"#000000\">Curso</text>\n</g>\n<!-- Curso&#45;&gt;Satisfacao -->\n<g id=\"edge7\" class=\"edge\">\n<title>Curso&#45;&gt;Satisfacao</title>\n<path fill=\"none\" stroke=\"#000000\" d=\"M263.358,-195.839C258.623,-183.3423 251.8971,-166.4552 245,-152 241.059,-143.7404 237.2956,-142.8591 235,-134 230.9865,-118.5115 230.5204,-113.3601 235,-98 240.7053,-78.4371 252.8075,-59.0983 263.7911,-44.336\"/>\n<polygon fill=\"#000000\" stroke=\"#000000\" points=\"266.7281,-46.2593 270.0721,-36.206 261.1887,-41.9797 266.7281,-46.2593\"/>\n<text text-anchor=\"middle\" x=\"261\" y=\"-119.4\" font-family=\"Times,serif\" font-size=\"12.00\" fill=\"#000000\">0.563</text>\n<text text-anchor=\"middle\" x=\"261\" y=\"-106.4\" font-family=\"Times,serif\" font-size=\"12.00\" fill=\"#000000\">p&#45;val: 0.00</text>\n</g>\n<!-- Curso&#45;&gt;Aprendizagem -->\n<g id=\"edge2\" class=\"edge\">\n<title>Curso&#45;&gt;Aprendizagem</title>\n<path fill=\"none\" stroke=\"#000000\" d=\"M277.3929,-195.7532C283.1913,-182.7502 292.0946,-165.2918 303,-152 306.1224,-148.1944 309.6982,-144.5051 313.4323,-141.0314\"/>\n<polygon fill=\"#000000\" stroke=\"#000000\" points=\"315.9886,-143.4462 321.2247,-134.2356 311.3877,-138.1706 315.9886,-143.4462\"/>\n<text text-anchor=\"middle\" x=\"329\" y=\"-168.4\" font-family=\"Times,serif\" font-size=\"12.00\" fill=\"#000000\">0.463</text>\n<text text-anchor=\"middle\" x=\"329\" y=\"-155.4\" font-family=\"Times,serif\" font-size=\"12.00\" fill=\"#000000\">p&#45;val: 0.00</text>\n</g>\n<!-- Design -->\n<g id=\"node4\" class=\"node\">\n<title>Design</title>\n<polygon fill=\"none\" stroke=\"#000000\" points=\"197.5,-232 140.5,-232 140.5,-196 197.5,-196 197.5,-232\"/>\n<text text-anchor=\"middle\" x=\"169\" y=\"-210.3\" font-family=\"Times,serif\" font-size=\"14.00\" fill=\"#000000\">Design</text>\n</g>\n<!-- Design&#45;&gt;Satisfacao -->\n<g id=\"edge8\" class=\"edge\">\n<title>Design&#45;&gt;Satisfacao</title>\n<path fill=\"none\" stroke=\"#000000\" d=\"M140.4434,-207.3056C125.0079,-202.0741 107.2579,-193.0741 98,-178 91.9525,-168.1532 92.7072,-162.2722 98,-152 127.4795,-94.7865 193.9457,-56.6256 239.3993,-36.1263\"/>\n<polygon fill=\"#000000\" stroke=\"#000000\" points=\"241.0078,-39.2427 248.7588,-32.0195 238.1952,-32.8326 241.0078,-39.2427\"/>\n<text text-anchor=\"middle\" x=\"167\" y=\"-119.4\" font-family=\"Times,serif\" font-size=\"12.00\" fill=\"#000000\">0.095</text>\n<text text-anchor=\"middle\" x=\"167\" y=\"-106.4\" font-family=\"Times,serif\" font-size=\"12.00\" fill=\"#000000\">p&#45;val: 0.07</text>\n</g>\n<!-- Design&#45;&gt;Aprendizagem -->\n<g id=\"edge3\" class=\"edge\">\n<title>Design&#45;&gt;Aprendizagem</title>\n<path fill=\"none\" stroke=\"#000000\" d=\"M182.9656,-195.8584C194.4835,-182.0373 211.9738,-163.4867 231,-152 236.3022,-148.7989 261.1709,-140.9533 286.5292,-133.4006\"/>\n<polygon fill=\"#000000\" stroke=\"#000000\" points=\"287.6357,-136.7233 296.2323,-130.5306 285.6502,-130.0108 287.6357,-136.7233\"/>\n<text text-anchor=\"middle\" x=\"257\" y=\"-168.4\" font-family=\"Times,serif\" font-size=\"12.00\" fill=\"#000000\">0.230</text>\n<text text-anchor=\"middle\" x=\"257\" y=\"-155.4\" font-family=\"Times,serif\" font-size=\"12.00\" fill=\"#000000\">p&#45;val: 0.00</text>\n</g>\n<!-- Interacao -->\n<g id=\"node5\" class=\"node\">\n<title>Interacao</title>\n<polygon fill=\"none\" stroke=\"#000000\" points=\"68,-232 0,-232 0,-196 68,-196 68,-232\"/>\n<text text-anchor=\"middle\" x=\"34\" y=\"-210.3\" font-family=\"Times,serif\" font-size=\"14.00\" fill=\"#000000\">Interacao</text>\n</g>\n<!-- Interacao&#45;&gt;Satisfacao -->\n<g id=\"edge10\" class=\"edge\">\n<title>Interacao&#45;&gt;Satisfacao</title>\n<path fill=\"none\" stroke=\"#000000\" d=\"M32.2721,-195.7366C30.9337,-170.8627 32.272,-126.2083 55,-98 78.3467,-69.0238 178.0946,-42.2079 238.6225,-28.1884\"/>\n<polygon fill=\"#000000\" stroke=\"#000000\" points=\"239.7407,-31.5233 248.7112,-25.8859 238.1831,-24.6988 239.7407,-31.5233\"/>\n<text text-anchor=\"middle\" x=\"81\" y=\"-119.4\" font-family=\"Times,serif\" font-size=\"12.00\" fill=\"#000000\">0.178</text>\n<text text-anchor=\"middle\" x=\"81\" y=\"-106.4\" font-family=\"Times,serif\" font-size=\"12.00\" fill=\"#000000\">p&#45;val: 0.00</text>\n</g>\n<!-- Interacao&#45;&gt;Aprendizagem -->\n<g id=\"edge5\" class=\"edge\">\n<title>Interacao&#45;&gt;Aprendizagem</title>\n<path fill=\"none\" stroke=\"#000000\" d=\"M59.3446,-195.9694C80.8306,-181.6305 113.0099,-162.3206 144,-152 202.6841,-132.4564 221.3792,-146.2839 282,-134 283.4704,-133.702 284.9564,-133.3888 286.4528,-133.0626\"/>\n<polygon fill=\"#000000\" stroke=\"#000000\" points=\"287.476,-136.4182 296.424,-130.7453 285.8913,-129.5999 287.476,-136.4182\"/>\n<text text-anchor=\"middle\" x=\"170\" y=\"-168.4\" font-family=\"Times,serif\" font-size=\"12.00\" fill=\"#000000\">0.640</text>\n<text text-anchor=\"middle\" x=\"170\" y=\"-155.4\" font-family=\"Times,serif\" font-size=\"12.00\" fill=\"#000000\">p&#45;val: 0.00</text>\n</g>\n<!-- Professor -->\n<g id=\"node6\" class=\"node\">\n<title>Professor</title>\n<polygon fill=\"none\" stroke=\"#000000\" points=\"535,-232 465,-232 465,-196 535,-196 535,-232\"/>\n<text text-anchor=\"middle\" x=\"500\" y=\"-210.3\" font-family=\"Times,serif\" font-size=\"14.00\" fill=\"#000000\">Professor</text>\n</g>\n<!-- Professor&#45;&gt;Satisfacao -->\n<g id=\"edge6\" class=\"edge\">\n<title>Professor&#45;&gt;Satisfacao</title>\n<path fill=\"none\" stroke=\"#000000\" d=\"M508.9941,-195.9152C513.9999,-183.4526 518.4129,-166.5747 514,-152 505.6413,-124.3932 498.9151,-117.8635 478,-98 437.3966,-59.4382 375.5352,-38.2396 333.0673,-27.5182\"/>\n<polygon fill=\"#000000\" stroke=\"#000000\" points=\"333.7915,-24.0925 323.2484,-25.1381 332.1424,-30.8954 333.7915,-24.0925\"/>\n<text text-anchor=\"middle\" x=\"533\" y=\"-119.4\" font-family=\"Times,serif\" font-size=\"12.00\" fill=\"#000000\">&#45;0.005</text>\n<text text-anchor=\"middle\" x=\"533\" y=\"-106.4\" font-family=\"Times,serif\" font-size=\"12.00\" fill=\"#000000\">p&#45;val: 0.93</text>\n</g>\n<!-- Professor&#45;&gt;Aprendizagem -->\n<g id=\"edge1\" class=\"edge\">\n<title>Professor&#45;&gt;Aprendizagem</title>\n<path fill=\"none\" stroke=\"#000000\" d=\"M480.702,-195.9945C465.9178,-182.7792 444.6202,-164.9513 424,-152 416.464,-147.2668 408.2057,-142.7658 399.9835,-138.6504\"/>\n<polygon fill=\"#000000\" stroke=\"#000000\" points=\"401.2812,-135.3899 390.7561,-134.1759 398.2269,-141.6884 401.2812,-135.3899\"/>\n<text text-anchor=\"middle\" x=\"484\" y=\"-168.4\" font-family=\"Times,serif\" font-size=\"12.00\" fill=\"#000000\">&#45;0.184</text>\n<text text-anchor=\"middle\" x=\"484\" y=\"-155.4\" font-family=\"Times,serif\" font-size=\"12.00\" fill=\"#000000\">p&#45;val: 0.00</text>\n</g>\n<!-- Tecnologia -->\n<g id=\"node7\" class=\"node\">\n<title>Tecnologia</title>\n<polygon fill=\"none\" stroke=\"#000000\" points=\"427,-232 347,-232 347,-196 427,-196 427,-232\"/>\n<text text-anchor=\"middle\" x=\"387\" y=\"-210.3\" font-family=\"Times,serif\" font-size=\"14.00\" fill=\"#000000\">Tecnologia</text>\n</g>\n<!-- Tecnologia&#45;&gt;Satisfacao -->\n<g id=\"edge9\" class=\"edge\">\n<title>Tecnologia&#45;&gt;Satisfacao</title>\n<path fill=\"none\" stroke=\"#000000\" d=\"M408.5185,-195.6947C413.188,-190.5016 417.4796,-184.4795 420,-178 433.0856,-144.3595 419.8464,-131.3345 406,-98 397.2867,-77.0231 397.3523,-68.6577 380,-54 366.623,-42.7002 349.3164,-34.7309 333.2059,-29.2159\"/>\n<polygon fill=\"#000000\" stroke=\"#000000\" points=\"333.9657,-25.7849 323.3753,-26.0914 331.8453,-32.4561 333.9657,-25.7849\"/>\n<text text-anchor=\"middle\" x=\"448\" y=\"-119.4\" font-family=\"Times,serif\" font-size=\"12.00\" fill=\"#000000\">0.085</text>\n<text text-anchor=\"middle\" x=\"448\" y=\"-106.4\" font-family=\"Times,serif\" font-size=\"12.00\" fill=\"#000000\">p&#45;val: 0.05</text>\n</g>\n<!-- Tecnologia&#45;&gt;Aprendizagem -->\n<g id=\"edge4\" class=\"edge\">\n<title>Tecnologia&#45;&gt;Aprendizagem</title>\n<path fill=\"none\" stroke=\"#000000\" d=\"M376.76,-195.9603C373.7446,-190.3022 370.5684,-183.9729 368,-178 363.3051,-167.0818 358.9416,-154.7374 355.4221,-143.9541\"/>\n<polygon fill=\"#000000\" stroke=\"#000000\" points=\"358.6847,-142.6638 352.3232,-134.1913 352.0128,-144.7816 358.6847,-142.6638\"/>\n<text text-anchor=\"middle\" x=\"394\" y=\"-168.4\" font-family=\"Times,serif\" font-size=\"12.00\" fill=\"#000000\">&#45;0.125</text>\n<text text-anchor=\"middle\" x=\"394\" y=\"-155.4\" font-family=\"Times,serif\" font-size=\"12.00\" fill=\"#000000\">p&#45;val: 0.01</text>\n</g>\n</g>\n</svg>\n"
          },
          "metadata": {}
        }
      ]
    },
    {
      "cell_type": "code",
      "source": [
        "comparando o RMSEA nota-se que o segundo modelo e melhor."
      ],
      "metadata": {
        "id": "L2Q-xKOacPqn"
      },
      "execution_count": null,
      "outputs": []
    },
    {
      "cell_type": "markdown",
      "source": [
        "# Escolha?\n",
        "\n"
      ],
      "metadata": {
        "id": "xQy7ArUYnjUO"
      }
    },
    {
      "cell_type": "markdown",
      "source": [
        "# Exercicio 3"
      ],
      "metadata": {
        "id": "sxUYGkpuRQ8H"
      }
    },
    {
      "cell_type": "code",
      "source": [
        "import semopy\n",
        "\n",
        "# define full measurement and structural model\n",
        "modelo_3 = \"\"\"\n",
        "Satisfacao ~ Interacao\n",
        "Satisfacao ~ Design\n",
        "Satisfacao ~ Curso\n",
        "Satisfacao ~ Aprendizagem\n",
        "Interacao ~ Professor\n",
        "Interacao ~ Tecnologia\n",
        "Aprendizagem ~ Interacao\n",
        "Aprendizagem ~ Curso\n",
        "Aprendizagem ~ Design\n",
        "\n",
        "\"\"\"\n",
        "\n",
        "modelo_completo_3 = semopy.Model(modelo_3)\n",
        "resultado_modelo_3 = modelo_completo_3.fit(tabela)"
      ],
      "metadata": {
        "id": "nRA3uN6fnmLs"
      },
      "execution_count": null,
      "outputs": []
    },
    {
      "cell_type": "code",
      "source": [
        "print(resultado_modelo_3)"
      ],
      "metadata": {
        "colab": {
          "base_uri": "https://localhost:8080/"
        },
        "id": "QmRofLJ6jcQu",
        "outputId": "f22db67e-8579-4c93-8fa2-8f545192ad30"
      },
      "execution_count": null,
      "outputs": [
        {
          "output_type": "stream",
          "name": "stdout",
          "text": [
            "Name of objective: MLW\n",
            "Optimization method: SLSQP\n",
            "Optimization successful.\n",
            "Optimization terminated successfully\n",
            "Objective value: 0.098\n",
            "Number of iterations: 22\n",
            "Params: 0.216 0.138 0.555 0.234 0.570 0.279 0.508 0.430 0.145 2.710 1.855 2.480\n"
          ]
        }
      ]
    },
    {
      "cell_type": "code",
      "source": [
        "ins = modelo_completo_3.inspect()\n",
        "print(ins)"
      ],
      "metadata": {
        "colab": {
          "base_uri": "https://localhost:8080/"
        },
        "id": "MkdcDI_1kFv7",
        "outputId": "8e1db9d6-7f06-49db-9d67-d89df5e2da1e"
      },
      "execution_count": null,
      "outputs": [
        {
          "output_type": "stream",
          "name": "stdout",
          "text": [
            "            lval  op          rval  Estimate  Std. Err    z-value  \\\n",
            "0      Interacao   ~     Professor  0.569723  0.044433  12.821965   \n",
            "1      Interacao   ~    Tecnologia  0.278912  0.044551   6.260571   \n",
            "2   Aprendizagem   ~     Interacao  0.508060  0.042828  11.862927   \n",
            "3   Aprendizagem   ~         Curso  0.429535  0.052448   8.189770   \n",
            "4   Aprendizagem   ~        Design  0.145394  0.053111   2.737533   \n",
            "5     Satisfacao   ~     Interacao  0.216243  0.044661   4.841864   \n",
            "6     Satisfacao   ~        Design  0.138339  0.046484   2.976058   \n",
            "7     Satisfacao   ~         Curso  0.554829  0.050025  11.091012   \n",
            "8     Satisfacao   ~  Aprendizagem  0.234243  0.049119   4.768885   \n",
            "9      Interacao  ~~     Interacao  2.709966  0.217670  12.449900   \n",
            "10  Aprendizagem  ~~  Aprendizagem  2.480475  0.199237  12.449900   \n",
            "11    Satisfacao  ~~    Satisfacao  1.855218  0.149015  12.449900   \n",
            "\n",
            "         p-value  \n",
            "0   0.000000e+00  \n",
            "1   3.835705e-10  \n",
            "2   0.000000e+00  \n",
            "3   2.220446e-16  \n",
            "4   6.190196e-03  \n",
            "5   1.286269e-06  \n",
            "6   2.919801e-03  \n",
            "7   0.000000e+00  \n",
            "8   1.852485e-06  \n",
            "9   0.000000e+00  \n",
            "10  0.000000e+00  \n",
            "11  0.000000e+00  \n"
          ]
        }
      ]
    },
    {
      "cell_type": "code",
      "source": [
        "semopy.calc_stats(modelo_completo_3)"
      ],
      "metadata": {
        "colab": {
          "base_uri": "https://localhost:8080/",
          "height": 81
        },
        "id": "jB7CD2tGkTOA",
        "outputId": "5eb79728-6cf9-4c44-a341-1b730cae7f66"
      },
      "execution_count": null,
      "outputs": [
        {
          "output_type": "execute_result",
          "data": {
            "text/plain": [
              "       DoF  DoF Baseline       chi2  chi2 p-value  chi2 Baseline       CFI  \\\n",
              "Value   16            25  30.256249      0.016718    1961.531796  0.992638   \n",
              "\n",
              "            GFI      AGFI       NFI       TLI     RMSEA        AIC        BIC  \\\n",
              "Value  0.984575  0.975899  0.984575  0.988497  0.053699  23.804798  68.643666   \n",
              "\n",
              "         LogLik  \n",
              "Value  0.097601  "
            ],
            "text/html": [
              "\n",
              "  <div id=\"df-70d64841-b08b-4983-be9e-1d85262392e5\">\n",
              "    <div class=\"colab-df-container\">\n",
              "      <div>\n",
              "<style scoped>\n",
              "    .dataframe tbody tr th:only-of-type {\n",
              "        vertical-align: middle;\n",
              "    }\n",
              "\n",
              "    .dataframe tbody tr th {\n",
              "        vertical-align: top;\n",
              "    }\n",
              "\n",
              "    .dataframe thead th {\n",
              "        text-align: right;\n",
              "    }\n",
              "</style>\n",
              "<table border=\"1\" class=\"dataframe\">\n",
              "  <thead>\n",
              "    <tr style=\"text-align: right;\">\n",
              "      <th></th>\n",
              "      <th>DoF</th>\n",
              "      <th>DoF Baseline</th>\n",
              "      <th>chi2</th>\n",
              "      <th>chi2 p-value</th>\n",
              "      <th>chi2 Baseline</th>\n",
              "      <th>CFI</th>\n",
              "      <th>GFI</th>\n",
              "      <th>AGFI</th>\n",
              "      <th>NFI</th>\n",
              "      <th>TLI</th>\n",
              "      <th>RMSEA</th>\n",
              "      <th>AIC</th>\n",
              "      <th>BIC</th>\n",
              "      <th>LogLik</th>\n",
              "    </tr>\n",
              "  </thead>\n",
              "  <tbody>\n",
              "    <tr>\n",
              "      <th>Value</th>\n",
              "      <td>16</td>\n",
              "      <td>25</td>\n",
              "      <td>30.256249</td>\n",
              "      <td>0.016718</td>\n",
              "      <td>1961.531796</td>\n",
              "      <td>0.992638</td>\n",
              "      <td>0.984575</td>\n",
              "      <td>0.975899</td>\n",
              "      <td>0.984575</td>\n",
              "      <td>0.988497</td>\n",
              "      <td>0.053699</td>\n",
              "      <td>23.804798</td>\n",
              "      <td>68.643666</td>\n",
              "      <td>0.097601</td>\n",
              "    </tr>\n",
              "  </tbody>\n",
              "</table>\n",
              "</div>\n",
              "      <button class=\"colab-df-convert\" onclick=\"convertToInteractive('df-70d64841-b08b-4983-be9e-1d85262392e5')\"\n",
              "              title=\"Convert this dataframe to an interactive table.\"\n",
              "              style=\"display:none;\">\n",
              "        \n",
              "  <svg xmlns=\"http://www.w3.org/2000/svg\" height=\"24px\"viewBox=\"0 0 24 24\"\n",
              "       width=\"24px\">\n",
              "    <path d=\"M0 0h24v24H0V0z\" fill=\"none\"/>\n",
              "    <path d=\"M18.56 5.44l.94 2.06.94-2.06 2.06-.94-2.06-.94-.94-2.06-.94 2.06-2.06.94zm-11 1L8.5 8.5l.94-2.06 2.06-.94-2.06-.94L8.5 2.5l-.94 2.06-2.06.94zm10 10l.94 2.06.94-2.06 2.06-.94-2.06-.94-.94-2.06-.94 2.06-2.06.94z\"/><path d=\"M17.41 7.96l-1.37-1.37c-.4-.4-.92-.59-1.43-.59-.52 0-1.04.2-1.43.59L10.3 9.45l-7.72 7.72c-.78.78-.78 2.05 0 2.83L4 21.41c.39.39.9.59 1.41.59.51 0 1.02-.2 1.41-.59l7.78-7.78 2.81-2.81c.8-.78.8-2.07 0-2.86zM5.41 20L4 18.59l7.72-7.72 1.47 1.35L5.41 20z\"/>\n",
              "  </svg>\n",
              "      </button>\n",
              "      \n",
              "  <style>\n",
              "    .colab-df-container {\n",
              "      display:flex;\n",
              "      flex-wrap:wrap;\n",
              "      gap: 12px;\n",
              "    }\n",
              "\n",
              "    .colab-df-convert {\n",
              "      background-color: #E8F0FE;\n",
              "      border: none;\n",
              "      border-radius: 50%;\n",
              "      cursor: pointer;\n",
              "      display: none;\n",
              "      fill: #1967D2;\n",
              "      height: 32px;\n",
              "      padding: 0 0 0 0;\n",
              "      width: 32px;\n",
              "    }\n",
              "\n",
              "    .colab-df-convert:hover {\n",
              "      background-color: #E2EBFA;\n",
              "      box-shadow: 0px 1px 2px rgba(60, 64, 67, 0.3), 0px 1px 3px 1px rgba(60, 64, 67, 0.15);\n",
              "      fill: #174EA6;\n",
              "    }\n",
              "\n",
              "    [theme=dark] .colab-df-convert {\n",
              "      background-color: #3B4455;\n",
              "      fill: #D2E3FC;\n",
              "    }\n",
              "\n",
              "    [theme=dark] .colab-df-convert:hover {\n",
              "      background-color: #434B5C;\n",
              "      box-shadow: 0px 1px 3px 1px rgba(0, 0, 0, 0.15);\n",
              "      filter: drop-shadow(0px 1px 2px rgba(0, 0, 0, 0.3));\n",
              "      fill: #FFFFFF;\n",
              "    }\n",
              "  </style>\n",
              "\n",
              "      <script>\n",
              "        const buttonEl =\n",
              "          document.querySelector('#df-70d64841-b08b-4983-be9e-1d85262392e5 button.colab-df-convert');\n",
              "        buttonEl.style.display =\n",
              "          google.colab.kernel.accessAllowed ? 'block' : 'none';\n",
              "\n",
              "        async function convertToInteractive(key) {\n",
              "          const element = document.querySelector('#df-70d64841-b08b-4983-be9e-1d85262392e5');\n",
              "          const dataTable =\n",
              "            await google.colab.kernel.invokeFunction('convertToInteractive',\n",
              "                                                     [key], {});\n",
              "          if (!dataTable) return;\n",
              "\n",
              "          const docLinkHtml = 'Like what you see? Visit the ' +\n",
              "            '<a target=\"_blank\" href=https://colab.research.google.com/notebooks/data_table.ipynb>data table notebook</a>'\n",
              "            + ' to learn more about interactive tables.';\n",
              "          element.innerHTML = '';\n",
              "          dataTable['output_type'] = 'display_data';\n",
              "          await google.colab.output.renderOutput(dataTable, element);\n",
              "          const docLink = document.createElement('div');\n",
              "          docLink.innerHTML = docLinkHtml;\n",
              "          element.appendChild(docLink);\n",
              "        }\n",
              "      </script>\n",
              "    </div>\n",
              "  </div>\n",
              "  "
            ]
          },
          "metadata": {},
          "execution_count": 46
        }
      ]
    },
    {
      "cell_type": "code",
      "source": [
        "g = semopy.semplot(modelo_completo_3, \"model3.png\")\n",
        "display.display(g)"
      ],
      "metadata": {
        "colab": {
          "base_uri": "https://localhost:8080/",
          "height": 472
        },
        "id": "M2NBvuDskefU",
        "outputId": "216a4f59-4b8c-4a5a-90b0-850ea4f5780f"
      },
      "execution_count": null,
      "outputs": [
        {
          "output_type": "display_data",
          "data": {
            "text/plain": [
              "<graphviz.dot.Digraph at 0x7f1b620ae910>"
            ],
            "image/svg+xml": "<?xml version=\"1.0\" encoding=\"UTF-8\" standalone=\"no\"?>\n<!DOCTYPE svg PUBLIC \"-//W3C//DTD SVG 1.1//EN\"\n \"http://www.w3.org/Graphics/SVG/1.1/DTD/svg11.dtd\">\n<!-- Generated by graphviz version 2.40.1 (20161225.0304)\n -->\n<!-- Title: G Pages: 1 -->\n<svg width=\"368pt\" height=\"338pt\"\n viewBox=\"0.00 0.00 368.00 338.00\" xmlns=\"http://www.w3.org/2000/svg\" xmlns:xlink=\"http://www.w3.org/1999/xlink\">\n<g id=\"graph0\" class=\"graph\" transform=\"scale(1 1) rotate(0) translate(4 334)\">\n<title>G</title>\n<polygon fill=\"#ffffff\" stroke=\"transparent\" points=\"-4,4 -4,-334 364,-334 364,4 -4,4\"/>\n<!-- Satisfacao -->\n<g id=\"node1\" class=\"node\">\n<title>Satisfacao</title>\n<polygon fill=\"none\" stroke=\"#000000\" points=\"179,-36 105,-36 105,0 179,0 179,-36\"/>\n<text text-anchor=\"middle\" x=\"142\" y=\"-14.3\" font-family=\"Times,serif\" font-size=\"14.00\" fill=\"#000000\">Satisfacao</text>\n</g>\n<!-- Aprendizagem -->\n<g id=\"node2\" class=\"node\">\n<title>Aprendizagem</title>\n<polygon fill=\"none\" stroke=\"#000000\" points=\"275.5,-134 174.5,-134 174.5,-98 275.5,-98 275.5,-134\"/>\n<text text-anchor=\"middle\" x=\"225\" y=\"-112.3\" font-family=\"Times,serif\" font-size=\"14.00\" fill=\"#000000\">Aprendizagem</text>\n</g>\n<!-- Aprendizagem&#45;&gt;Satisfacao -->\n<g id=\"edge9\" class=\"edge\">\n<title>Aprendizagem&#45;&gt;Satisfacao</title>\n<path fill=\"none\" stroke=\"#000000\" d=\"M209.3883,-97.5669C196.5553,-82.4147 178.2232,-60.7696 163.9184,-43.8795\"/>\n<polygon fill=\"#000000\" stroke=\"#000000\" points=\"166.395,-41.3882 157.2612,-36.0193 161.0534,-45.9123 166.395,-41.3882\"/>\n<text text-anchor=\"middle\" x=\"220\" y=\"-70.4\" font-family=\"Times,serif\" font-size=\"12.00\" fill=\"#000000\">0.234</text>\n<text text-anchor=\"middle\" x=\"220\" y=\"-57.4\" font-family=\"Times,serif\" font-size=\"12.00\" fill=\"#000000\">p&#45;val: 0.00</text>\n</g>\n<!-- Curso -->\n<g id=\"node3\" class=\"node\">\n<title>Curso</title>\n<polygon fill=\"none\" stroke=\"#000000\" points=\"54,-232 0,-232 0,-196 54,-196 54,-232\"/>\n<text text-anchor=\"middle\" x=\"27\" y=\"-210.3\" font-family=\"Times,serif\" font-size=\"14.00\" fill=\"#000000\">Curso</text>\n</g>\n<!-- Curso&#45;&gt;Satisfacao -->\n<g id=\"edge8\" class=\"edge\">\n<title>Curso&#45;&gt;Satisfacao</title>\n<path fill=\"none\" stroke=\"#000000\" d=\"M27.8968,-195.8818C29.7905,-171.9541 35.6812,-129.2055 54,-98 66.9622,-75.9192 88.0156,-56.4587 106.2798,-42.261\"/>\n<polygon fill=\"#000000\" stroke=\"#000000\" points=\"108.5541,-44.9298 114.436,-36.1176 104.3426,-39.3384 108.5541,-44.9298\"/>\n<text text-anchor=\"middle\" x=\"80\" y=\"-119.4\" font-family=\"Times,serif\" font-size=\"12.00\" fill=\"#000000\">0.555</text>\n<text text-anchor=\"middle\" x=\"80\" y=\"-106.4\" font-family=\"Times,serif\" font-size=\"12.00\" fill=\"#000000\">p&#45;val: 0.00</text>\n</g>\n<!-- Curso&#45;&gt;Aprendizagem -->\n<g id=\"edge4\" class=\"edge\">\n<title>Curso&#45;&gt;Aprendizagem</title>\n<path fill=\"none\" stroke=\"#000000\" d=\"M43.1415,-195.7845C56.3519,-181.9226 76.194,-163.3533 97,-152 97.8321,-151.5459 131.5358,-142.0726 164.1454,-132.959\"/>\n<polygon fill=\"#000000\" stroke=\"#000000\" points=\"165.5032,-136.2138 174.1929,-130.1526 163.62,-129.4719 165.5032,-136.2138\"/>\n<text text-anchor=\"middle\" x=\"123\" y=\"-168.4\" font-family=\"Times,serif\" font-size=\"12.00\" fill=\"#000000\">0.430</text>\n<text text-anchor=\"middle\" x=\"123\" y=\"-155.4\" font-family=\"Times,serif\" font-size=\"12.00\" fill=\"#000000\">p&#45;val: 0.00</text>\n</g>\n<!-- Design -->\n<g id=\"node4\" class=\"node\">\n<title>Design</title>\n<polygon fill=\"none\" stroke=\"#000000\" points=\"142.5,-232 85.5,-232 85.5,-196 142.5,-196 142.5,-232\"/>\n<text text-anchor=\"middle\" x=\"114\" y=\"-210.3\" font-family=\"Times,serif\" font-size=\"14.00\" fill=\"#000000\">Design</text>\n</g>\n<!-- Design&#45;&gt;Satisfacao -->\n<g id=\"edge7\" class=\"edge\">\n<title>Design&#45;&gt;Satisfacao</title>\n<path fill=\"none\" stroke=\"#000000\" d=\"M111.8119,-195.7483C109.5185,-172.7541 107.007,-132.1178 113,-98 116.1659,-79.9767 123.0575,-60.6654 129.3282,-45.5321\"/>\n<polygon fill=\"#000000\" stroke=\"#000000\" points=\"132.5859,-46.816 133.3139,-36.2462 126.1534,-44.055 132.5859,-46.816\"/>\n<text text-anchor=\"middle\" x=\"139\" y=\"-119.4\" font-family=\"Times,serif\" font-size=\"12.00\" fill=\"#000000\">0.138</text>\n<text text-anchor=\"middle\" x=\"139\" y=\"-106.4\" font-family=\"Times,serif\" font-size=\"12.00\" fill=\"#000000\">p&#45;val: 0.00</text>\n</g>\n<!-- Design&#45;&gt;Aprendizagem -->\n<g id=\"edge5\" class=\"edge\">\n<title>Design&#45;&gt;Aprendizagem</title>\n<path fill=\"none\" stroke=\"#000000\" d=\"M132.4118,-195.9582C145.4524,-183.3658 163.4915,-166.3177 180,-152 184.2515,-148.3127 188.8073,-144.5077 193.3283,-140.8148\"/>\n<polygon fill=\"#000000\" stroke=\"#000000\" points=\"195.7706,-143.3415 201.3555,-134.3382 191.375,-137.8936 195.7706,-143.3415\"/>\n<text text-anchor=\"middle\" x=\"206\" y=\"-168.4\" font-family=\"Times,serif\" font-size=\"12.00\" fill=\"#000000\">0.145</text>\n<text text-anchor=\"middle\" x=\"206\" y=\"-155.4\" font-family=\"Times,serif\" font-size=\"12.00\" fill=\"#000000\">p&#45;val: 0.01</text>\n</g>\n<!-- Interacao -->\n<g id=\"node5\" class=\"node\">\n<title>Interacao</title>\n<polygon fill=\"none\" stroke=\"#000000\" points=\"307,-232 239,-232 239,-196 307,-196 307,-232\"/>\n<text text-anchor=\"middle\" x=\"273\" y=\"-210.3\" font-family=\"Times,serif\" font-size=\"14.00\" fill=\"#000000\">Interacao</text>\n</g>\n<!-- Interacao&#45;&gt;Satisfacao -->\n<g id=\"edge6\" class=\"edge\">\n<title>Interacao&#45;&gt;Satisfacao</title>\n<path fill=\"none\" stroke=\"#000000\" d=\"M288.8443,-195.7202C292.5812,-190.3567 296.0443,-184.2449 298,-178 308.7654,-143.6243 300.8013,-130.3713 285,-98 274.0389,-75.5445 270.4771,-68.3207 250,-54 231.9185,-41.3547 209.0686,-32.8921 189.0478,-27.3689\"/>\n<polygon fill=\"#000000\" stroke=\"#000000\" points=\"189.7371,-23.9321 179.1791,-24.8152 187.9834,-30.7089 189.7371,-23.9321\"/>\n<text text-anchor=\"middle\" x=\"326\" y=\"-119.4\" font-family=\"Times,serif\" font-size=\"12.00\" fill=\"#000000\">0.216</text>\n<text text-anchor=\"middle\" x=\"326\" y=\"-106.4\" font-family=\"Times,serif\" font-size=\"12.00\" fill=\"#000000\">p&#45;val: 0.00</text>\n</g>\n<!-- Interacao&#45;&gt;Aprendizagem -->\n<g id=\"edge3\" class=\"edge\">\n<title>Interacao&#45;&gt;Aprendizagem</title>\n<path fill=\"none\" stroke=\"#000000\" d=\"M257.5193,-195.6951C253.3976,-190.2365 249.2054,-184.082 246,-178 240.4186,-167.4098 235.8749,-155.0377 232.4599,-144.143\"/>\n<polygon fill=\"#000000\" stroke=\"#000000\" points=\"235.7282,-142.8527 229.5346,-134.2567 229.0159,-144.8389 235.7282,-142.8527\"/>\n<text text-anchor=\"middle\" x=\"272\" y=\"-168.4\" font-family=\"Times,serif\" font-size=\"12.00\" fill=\"#000000\">0.508</text>\n<text text-anchor=\"middle\" x=\"272\" y=\"-155.4\" font-family=\"Times,serif\" font-size=\"12.00\" fill=\"#000000\">p&#45;val: 0.00</text>\n</g>\n<!-- Professor -->\n<g id=\"node6\" class=\"node\">\n<title>Professor</title>\n<polygon fill=\"none\" stroke=\"#000000\" points=\"262,-330 192,-330 192,-294 262,-294 262,-330\"/>\n<text text-anchor=\"middle\" x=\"227\" y=\"-308.3\" font-family=\"Times,serif\" font-size=\"14.00\" fill=\"#000000\">Professor</text>\n</g>\n<!-- Professor&#45;&gt;Interacao -->\n<g id=\"edge1\" class=\"edge\">\n<title>Professor&#45;&gt;Interacao</title>\n<path fill=\"none\" stroke=\"#000000\" d=\"M230.8337,-293.727C233.915,-281.0285 238.9069,-263.9487 246,-250 247.6068,-246.8402 249.4923,-243.6695 251.5071,-240.5911\"/>\n<polygon fill=\"#000000\" stroke=\"#000000\" points=\"254.4918,-242.432 257.404,-232.2453 248.7749,-238.3926 254.4918,-242.432\"/>\n<text text-anchor=\"middle\" x=\"272\" y=\"-266.4\" font-family=\"Times,serif\" font-size=\"12.00\" fill=\"#000000\">0.570</text>\n<text text-anchor=\"middle\" x=\"272\" y=\"-253.4\" font-family=\"Times,serif\" font-size=\"12.00\" fill=\"#000000\">p&#45;val: 0.00</text>\n</g>\n<!-- Tecnologia -->\n<g id=\"node7\" class=\"node\">\n<title>Tecnologia</title>\n<polygon fill=\"none\" stroke=\"#000000\" points=\"360,-330 280,-330 280,-294 360,-294 360,-330\"/>\n<text text-anchor=\"middle\" x=\"320\" y=\"-308.3\" font-family=\"Times,serif\" font-size=\"14.00\" fill=\"#000000\">Tecnologia</text>\n</g>\n<!-- Tecnologia&#45;&gt;Interacao -->\n<g id=\"edge2\" class=\"edge\">\n<title>Tecnologia&#45;&gt;Interacao</title>\n<path fill=\"none\" stroke=\"#000000\" d=\"M314.9552,-293.8378C311.1095,-281.1902 305.2463,-264.1256 298,-250 296.3883,-246.8581 294.5393,-243.6724 292.5922,-240.5619\"/>\n<polygon fill=\"#000000\" stroke=\"#000000\" points=\"295.4124,-238.482 286.9599,-232.0939 289.5839,-242.3587 295.4124,-238.482\"/>\n<text text-anchor=\"middle\" x=\"334\" y=\"-266.4\" font-family=\"Times,serif\" font-size=\"12.00\" fill=\"#000000\">0.279</text>\n<text text-anchor=\"middle\" x=\"334\" y=\"-253.4\" font-family=\"Times,serif\" font-size=\"12.00\" fill=\"#000000\">p&#45;val: 0.00</text>\n</g>\n</g>\n</svg>\n"
          },
          "metadata": {}
        }
      ]
    },
    {
      "cell_type": "markdown",
      "source": [
        "Como RMSEA do modelo anterior e melhor, o modelo anterior tambem e melhor"
      ],
      "metadata": {
        "id": "SdQknxrKk3Fh"
      }
    },
    {
      "cell_type": "markdown",
      "source": [
        "# Exercicio 4\n"
      ],
      "metadata": {
        "id": "UbZ7olNZRYxK"
      }
    },
    {
      "cell_type": "markdown",
      "source": [
        "Para verificar se \"Tecnologia\" é moderadora entre \"Interação\" e \"Aprendizagem\", irei separar \"Tecnologia\" em 4 quatis e analizar um grafico de dispersão para cada um dos quartis e verificar se existe mudança significativa entre a variavel dependente (Aprendizagem) e a Independente (Interação)"
      ],
      "metadata": {
        "id": "2zanFRM_9ZJ1"
      }
    },
    {
      "cell_type": "code",
      "source": [
        "tabela.head()"
      ],
      "metadata": {
        "colab": {
          "base_uri": "https://localhost:8080/",
          "height": 206
        },
        "id": "QmdC-0ZMBjeU",
        "outputId": "5b135f6f-e391-437a-b1ad-032e99079892"
      },
      "execution_count": null,
      "outputs": [
        {
          "output_type": "execute_result",
          "data": {
            "text/plain": [
              "   id  Idade     genero     ALOC  Professor  Curso  Design  Tecnologia  \\\n",
              "0   1     33  Masculino  Interno        6.6    7.2     3.6         6.6   \n",
              "1   2     24   Feminino  Interno        9.5    9.4     9.3         9.9   \n",
              "2   3     30  Masculino  Interno        6.9    8.8     8.3         7.7   \n",
              "3   4     46   Feminino  Interno        6.5    4.4     5.9         6.7   \n",
              "4   5     28   Feminino  Interno        5.8    7.1     7.6         4.9   \n",
              "\n",
              "   Interacao  Satisfacao  Aprendizagem quartil_tec  \n",
              "0        6.3         7.4           5.3           2  \n",
              "1        9.4         9.9           9.6           4  \n",
              "2        6.7         9.3           8.3           3  \n",
              "3        6.1         6.8           4.7           2  \n",
              "4        4.2         8.6           5.1           1  "
            ],
            "text/html": [
              "\n",
              "  <div id=\"df-07c47ba3-b24f-4fa6-a5cb-d4869ea2349a\">\n",
              "    <div class=\"colab-df-container\">\n",
              "      <div>\n",
              "<style scoped>\n",
              "    .dataframe tbody tr th:only-of-type {\n",
              "        vertical-align: middle;\n",
              "    }\n",
              "\n",
              "    .dataframe tbody tr th {\n",
              "        vertical-align: top;\n",
              "    }\n",
              "\n",
              "    .dataframe thead th {\n",
              "        text-align: right;\n",
              "    }\n",
              "</style>\n",
              "<table border=\"1\" class=\"dataframe\">\n",
              "  <thead>\n",
              "    <tr style=\"text-align: right;\">\n",
              "      <th></th>\n",
              "      <th>id</th>\n",
              "      <th>Idade</th>\n",
              "      <th>genero</th>\n",
              "      <th>ALOC</th>\n",
              "      <th>Professor</th>\n",
              "      <th>Curso</th>\n",
              "      <th>Design</th>\n",
              "      <th>Tecnologia</th>\n",
              "      <th>Interacao</th>\n",
              "      <th>Satisfacao</th>\n",
              "      <th>Aprendizagem</th>\n",
              "      <th>quartil_tec</th>\n",
              "    </tr>\n",
              "  </thead>\n",
              "  <tbody>\n",
              "    <tr>\n",
              "      <th>0</th>\n",
              "      <td>1</td>\n",
              "      <td>33</td>\n",
              "      <td>Masculino</td>\n",
              "      <td>Interno</td>\n",
              "      <td>6.6</td>\n",
              "      <td>7.2</td>\n",
              "      <td>3.6</td>\n",
              "      <td>6.6</td>\n",
              "      <td>6.3</td>\n",
              "      <td>7.4</td>\n",
              "      <td>5.3</td>\n",
              "      <td>2</td>\n",
              "    </tr>\n",
              "    <tr>\n",
              "      <th>1</th>\n",
              "      <td>2</td>\n",
              "      <td>24</td>\n",
              "      <td>Feminino</td>\n",
              "      <td>Interno</td>\n",
              "      <td>9.5</td>\n",
              "      <td>9.4</td>\n",
              "      <td>9.3</td>\n",
              "      <td>9.9</td>\n",
              "      <td>9.4</td>\n",
              "      <td>9.9</td>\n",
              "      <td>9.6</td>\n",
              "      <td>4</td>\n",
              "    </tr>\n",
              "    <tr>\n",
              "      <th>2</th>\n",
              "      <td>3</td>\n",
              "      <td>30</td>\n",
              "      <td>Masculino</td>\n",
              "      <td>Interno</td>\n",
              "      <td>6.9</td>\n",
              "      <td>8.8</td>\n",
              "      <td>8.3</td>\n",
              "      <td>7.7</td>\n",
              "      <td>6.7</td>\n",
              "      <td>9.3</td>\n",
              "      <td>8.3</td>\n",
              "      <td>3</td>\n",
              "    </tr>\n",
              "    <tr>\n",
              "      <th>3</th>\n",
              "      <td>4</td>\n",
              "      <td>46</td>\n",
              "      <td>Feminino</td>\n",
              "      <td>Interno</td>\n",
              "      <td>6.5</td>\n",
              "      <td>4.4</td>\n",
              "      <td>5.9</td>\n",
              "      <td>6.7</td>\n",
              "      <td>6.1</td>\n",
              "      <td>6.8</td>\n",
              "      <td>4.7</td>\n",
              "      <td>2</td>\n",
              "    </tr>\n",
              "    <tr>\n",
              "      <th>4</th>\n",
              "      <td>5</td>\n",
              "      <td>28</td>\n",
              "      <td>Feminino</td>\n",
              "      <td>Interno</td>\n",
              "      <td>5.8</td>\n",
              "      <td>7.1</td>\n",
              "      <td>7.6</td>\n",
              "      <td>4.9</td>\n",
              "      <td>4.2</td>\n",
              "      <td>8.6</td>\n",
              "      <td>5.1</td>\n",
              "      <td>1</td>\n",
              "    </tr>\n",
              "  </tbody>\n",
              "</table>\n",
              "</div>\n",
              "      <button class=\"colab-df-convert\" onclick=\"convertToInteractive('df-07c47ba3-b24f-4fa6-a5cb-d4869ea2349a')\"\n",
              "              title=\"Convert this dataframe to an interactive table.\"\n",
              "              style=\"display:none;\">\n",
              "        \n",
              "  <svg xmlns=\"http://www.w3.org/2000/svg\" height=\"24px\"viewBox=\"0 0 24 24\"\n",
              "       width=\"24px\">\n",
              "    <path d=\"M0 0h24v24H0V0z\" fill=\"none\"/>\n",
              "    <path d=\"M18.56 5.44l.94 2.06.94-2.06 2.06-.94-2.06-.94-.94-2.06-.94 2.06-2.06.94zm-11 1L8.5 8.5l.94-2.06 2.06-.94-2.06-.94L8.5 2.5l-.94 2.06-2.06.94zm10 10l.94 2.06.94-2.06 2.06-.94-2.06-.94-.94-2.06-.94 2.06-2.06.94z\"/><path d=\"M17.41 7.96l-1.37-1.37c-.4-.4-.92-.59-1.43-.59-.52 0-1.04.2-1.43.59L10.3 9.45l-7.72 7.72c-.78.78-.78 2.05 0 2.83L4 21.41c.39.39.9.59 1.41.59.51 0 1.02-.2 1.41-.59l7.78-7.78 2.81-2.81c.8-.78.8-2.07 0-2.86zM5.41 20L4 18.59l7.72-7.72 1.47 1.35L5.41 20z\"/>\n",
              "  </svg>\n",
              "      </button>\n",
              "      \n",
              "  <style>\n",
              "    .colab-df-container {\n",
              "      display:flex;\n",
              "      flex-wrap:wrap;\n",
              "      gap: 12px;\n",
              "    }\n",
              "\n",
              "    .colab-df-convert {\n",
              "      background-color: #E8F0FE;\n",
              "      border: none;\n",
              "      border-radius: 50%;\n",
              "      cursor: pointer;\n",
              "      display: none;\n",
              "      fill: #1967D2;\n",
              "      height: 32px;\n",
              "      padding: 0 0 0 0;\n",
              "      width: 32px;\n",
              "    }\n",
              "\n",
              "    .colab-df-convert:hover {\n",
              "      background-color: #E2EBFA;\n",
              "      box-shadow: 0px 1px 2px rgba(60, 64, 67, 0.3), 0px 1px 3px 1px rgba(60, 64, 67, 0.15);\n",
              "      fill: #174EA6;\n",
              "    }\n",
              "\n",
              "    [theme=dark] .colab-df-convert {\n",
              "      background-color: #3B4455;\n",
              "      fill: #D2E3FC;\n",
              "    }\n",
              "\n",
              "    [theme=dark] .colab-df-convert:hover {\n",
              "      background-color: #434B5C;\n",
              "      box-shadow: 0px 1px 3px 1px rgba(0, 0, 0, 0.15);\n",
              "      filter: drop-shadow(0px 1px 2px rgba(0, 0, 0, 0.3));\n",
              "      fill: #FFFFFF;\n",
              "    }\n",
              "  </style>\n",
              "\n",
              "      <script>\n",
              "        const buttonEl =\n",
              "          document.querySelector('#df-07c47ba3-b24f-4fa6-a5cb-d4869ea2349a button.colab-df-convert');\n",
              "        buttonEl.style.display =\n",
              "          google.colab.kernel.accessAllowed ? 'block' : 'none';\n",
              "\n",
              "        async function convertToInteractive(key) {\n",
              "          const element = document.querySelector('#df-07c47ba3-b24f-4fa6-a5cb-d4869ea2349a');\n",
              "          const dataTable =\n",
              "            await google.colab.kernel.invokeFunction('convertToInteractive',\n",
              "                                                     [key], {});\n",
              "          if (!dataTable) return;\n",
              "\n",
              "          const docLinkHtml = 'Like what you see? Visit the ' +\n",
              "            '<a target=\"_blank\" href=https://colab.research.google.com/notebooks/data_table.ipynb>data table notebook</a>'\n",
              "            + ' to learn more about interactive tables.';\n",
              "          element.innerHTML = '';\n",
              "          dataTable['output_type'] = 'display_data';\n",
              "          await google.colab.output.renderOutput(dataTable, element);\n",
              "          const docLink = document.createElement('div');\n",
              "          docLink.innerHTML = docLinkHtml;\n",
              "          element.appendChild(docLink);\n",
              "        }\n",
              "      </script>\n",
              "    </div>\n",
              "  </div>\n",
              "  "
            ]
          },
          "metadata": {},
          "execution_count": 126
        }
      ]
    },
    {
      "cell_type": "code",
      "source": [
        "# Criando uma variavel categorica para identificar qual é o quartile (Tecnologia) ao qual aquela amostra pertence\n",
        "tabela['quartil_tec'] = pd.qcut(tabela.Tecnologia, q=[0, .25, 0.5, .75, 1], labels=[1, 2, 3, 4])\n",
        "tabela.head()"
      ],
      "metadata": {
        "id": "fYrB93TDDhZf",
        "colab": {
          "base_uri": "https://localhost:8080/",
          "height": 206
        },
        "outputId": "726a7e70-d09a-4266-b474-9dfff3051385"
      },
      "execution_count": null,
      "outputs": [
        {
          "output_type": "execute_result",
          "data": {
            "text/plain": [
              "   id  Idade     genero     ALOC  Professor  Curso  Design  Tecnologia  \\\n",
              "0   1     33  Masculino  Interno        6.6    7.2     3.6         6.6   \n",
              "1   2     24   Feminino  Interno        9.5    9.4     9.3         9.9   \n",
              "2   3     30  Masculino  Interno        6.9    8.8     8.3         7.7   \n",
              "3   4     46   Feminino  Interno        6.5    4.4     5.9         6.7   \n",
              "4   5     28   Feminino  Interno        5.8    7.1     7.6         4.9   \n",
              "\n",
              "   Interacao  Satisfacao  Aprendizagem quartil_tec  \n",
              "0        6.3         7.4           5.3           2  \n",
              "1        9.4         9.9           9.6           4  \n",
              "2        6.7         9.3           8.3           3  \n",
              "3        6.1         6.8           4.7           2  \n",
              "4        4.2         8.6           5.1           1  "
            ],
            "text/html": [
              "\n",
              "  <div id=\"df-97b59fbc-2785-48b1-93dd-2b0504b5a0cc\">\n",
              "    <div class=\"colab-df-container\">\n",
              "      <div>\n",
              "<style scoped>\n",
              "    .dataframe tbody tr th:only-of-type {\n",
              "        vertical-align: middle;\n",
              "    }\n",
              "\n",
              "    .dataframe tbody tr th {\n",
              "        vertical-align: top;\n",
              "    }\n",
              "\n",
              "    .dataframe thead th {\n",
              "        text-align: right;\n",
              "    }\n",
              "</style>\n",
              "<table border=\"1\" class=\"dataframe\">\n",
              "  <thead>\n",
              "    <tr style=\"text-align: right;\">\n",
              "      <th></th>\n",
              "      <th>id</th>\n",
              "      <th>Idade</th>\n",
              "      <th>genero</th>\n",
              "      <th>ALOC</th>\n",
              "      <th>Professor</th>\n",
              "      <th>Curso</th>\n",
              "      <th>Design</th>\n",
              "      <th>Tecnologia</th>\n",
              "      <th>Interacao</th>\n",
              "      <th>Satisfacao</th>\n",
              "      <th>Aprendizagem</th>\n",
              "      <th>quartil_tec</th>\n",
              "    </tr>\n",
              "  </thead>\n",
              "  <tbody>\n",
              "    <tr>\n",
              "      <th>0</th>\n",
              "      <td>1</td>\n",
              "      <td>33</td>\n",
              "      <td>Masculino</td>\n",
              "      <td>Interno</td>\n",
              "      <td>6.6</td>\n",
              "      <td>7.2</td>\n",
              "      <td>3.6</td>\n",
              "      <td>6.6</td>\n",
              "      <td>6.3</td>\n",
              "      <td>7.4</td>\n",
              "      <td>5.3</td>\n",
              "      <td>2</td>\n",
              "    </tr>\n",
              "    <tr>\n",
              "      <th>1</th>\n",
              "      <td>2</td>\n",
              "      <td>24</td>\n",
              "      <td>Feminino</td>\n",
              "      <td>Interno</td>\n",
              "      <td>9.5</td>\n",
              "      <td>9.4</td>\n",
              "      <td>9.3</td>\n",
              "      <td>9.9</td>\n",
              "      <td>9.4</td>\n",
              "      <td>9.9</td>\n",
              "      <td>9.6</td>\n",
              "      <td>4</td>\n",
              "    </tr>\n",
              "    <tr>\n",
              "      <th>2</th>\n",
              "      <td>3</td>\n",
              "      <td>30</td>\n",
              "      <td>Masculino</td>\n",
              "      <td>Interno</td>\n",
              "      <td>6.9</td>\n",
              "      <td>8.8</td>\n",
              "      <td>8.3</td>\n",
              "      <td>7.7</td>\n",
              "      <td>6.7</td>\n",
              "      <td>9.3</td>\n",
              "      <td>8.3</td>\n",
              "      <td>3</td>\n",
              "    </tr>\n",
              "    <tr>\n",
              "      <th>3</th>\n",
              "      <td>4</td>\n",
              "      <td>46</td>\n",
              "      <td>Feminino</td>\n",
              "      <td>Interno</td>\n",
              "      <td>6.5</td>\n",
              "      <td>4.4</td>\n",
              "      <td>5.9</td>\n",
              "      <td>6.7</td>\n",
              "      <td>6.1</td>\n",
              "      <td>6.8</td>\n",
              "      <td>4.7</td>\n",
              "      <td>2</td>\n",
              "    </tr>\n",
              "    <tr>\n",
              "      <th>4</th>\n",
              "      <td>5</td>\n",
              "      <td>28</td>\n",
              "      <td>Feminino</td>\n",
              "      <td>Interno</td>\n",
              "      <td>5.8</td>\n",
              "      <td>7.1</td>\n",
              "      <td>7.6</td>\n",
              "      <td>4.9</td>\n",
              "      <td>4.2</td>\n",
              "      <td>8.6</td>\n",
              "      <td>5.1</td>\n",
              "      <td>1</td>\n",
              "    </tr>\n",
              "  </tbody>\n",
              "</table>\n",
              "</div>\n",
              "      <button class=\"colab-df-convert\" onclick=\"convertToInteractive('df-97b59fbc-2785-48b1-93dd-2b0504b5a0cc')\"\n",
              "              title=\"Convert this dataframe to an interactive table.\"\n",
              "              style=\"display:none;\">\n",
              "        \n",
              "  <svg xmlns=\"http://www.w3.org/2000/svg\" height=\"24px\"viewBox=\"0 0 24 24\"\n",
              "       width=\"24px\">\n",
              "    <path d=\"M0 0h24v24H0V0z\" fill=\"none\"/>\n",
              "    <path d=\"M18.56 5.44l.94 2.06.94-2.06 2.06-.94-2.06-.94-.94-2.06-.94 2.06-2.06.94zm-11 1L8.5 8.5l.94-2.06 2.06-.94-2.06-.94L8.5 2.5l-.94 2.06-2.06.94zm10 10l.94 2.06.94-2.06 2.06-.94-2.06-.94-.94-2.06-.94 2.06-2.06.94z\"/><path d=\"M17.41 7.96l-1.37-1.37c-.4-.4-.92-.59-1.43-.59-.52 0-1.04.2-1.43.59L10.3 9.45l-7.72 7.72c-.78.78-.78 2.05 0 2.83L4 21.41c.39.39.9.59 1.41.59.51 0 1.02-.2 1.41-.59l7.78-7.78 2.81-2.81c.8-.78.8-2.07 0-2.86zM5.41 20L4 18.59l7.72-7.72 1.47 1.35L5.41 20z\"/>\n",
              "  </svg>\n",
              "      </button>\n",
              "      \n",
              "  <style>\n",
              "    .colab-df-container {\n",
              "      display:flex;\n",
              "      flex-wrap:wrap;\n",
              "      gap: 12px;\n",
              "    }\n",
              "\n",
              "    .colab-df-convert {\n",
              "      background-color: #E8F0FE;\n",
              "      border: none;\n",
              "      border-radius: 50%;\n",
              "      cursor: pointer;\n",
              "      display: none;\n",
              "      fill: #1967D2;\n",
              "      height: 32px;\n",
              "      padding: 0 0 0 0;\n",
              "      width: 32px;\n",
              "    }\n",
              "\n",
              "    .colab-df-convert:hover {\n",
              "      background-color: #E2EBFA;\n",
              "      box-shadow: 0px 1px 2px rgba(60, 64, 67, 0.3), 0px 1px 3px 1px rgba(60, 64, 67, 0.15);\n",
              "      fill: #174EA6;\n",
              "    }\n",
              "\n",
              "    [theme=dark] .colab-df-convert {\n",
              "      background-color: #3B4455;\n",
              "      fill: #D2E3FC;\n",
              "    }\n",
              "\n",
              "    [theme=dark] .colab-df-convert:hover {\n",
              "      background-color: #434B5C;\n",
              "      box-shadow: 0px 1px 3px 1px rgba(0, 0, 0, 0.15);\n",
              "      filter: drop-shadow(0px 1px 2px rgba(0, 0, 0, 0.3));\n",
              "      fill: #FFFFFF;\n",
              "    }\n",
              "  </style>\n",
              "\n",
              "      <script>\n",
              "        const buttonEl =\n",
              "          document.querySelector('#df-97b59fbc-2785-48b1-93dd-2b0504b5a0cc button.colab-df-convert');\n",
              "        buttonEl.style.display =\n",
              "          google.colab.kernel.accessAllowed ? 'block' : 'none';\n",
              "\n",
              "        async function convertToInteractive(key) {\n",
              "          const element = document.querySelector('#df-97b59fbc-2785-48b1-93dd-2b0504b5a0cc');\n",
              "          const dataTable =\n",
              "            await google.colab.kernel.invokeFunction('convertToInteractive',\n",
              "                                                     [key], {});\n",
              "          if (!dataTable) return;\n",
              "\n",
              "          const docLinkHtml = 'Like what you see? Visit the ' +\n",
              "            '<a target=\"_blank\" href=https://colab.research.google.com/notebooks/data_table.ipynb>data table notebook</a>'\n",
              "            + ' to learn more about interactive tables.';\n",
              "          element.innerHTML = '';\n",
              "          dataTable['output_type'] = 'display_data';\n",
              "          await google.colab.output.renderOutput(dataTable, element);\n",
              "          const docLink = document.createElement('div');\n",
              "          docLink.innerHTML = docLinkHtml;\n",
              "          element.appendChild(docLink);\n",
              "        }\n",
              "      </script>\n",
              "    </div>\n",
              "  </div>\n",
              "  "
            ]
          },
          "metadata": {},
          "execution_count": 127
        }
      ]
    },
    {
      "cell_type": "code",
      "source": [
        "sns.lmplot(x=\"Interacao\", y=\"Aprendizagem\", hue=\"quartil_tec\",data=tabela);"
      ],
      "metadata": {
        "id": "HCxk8e3qEMvJ",
        "outputId": "cd1a591f-28a1-463e-f55c-d072e5ceed85",
        "colab": {
          "base_uri": "https://localhost:8080/",
          "height": 369
        }
      },
      "execution_count": null,
      "outputs": [
        {
          "output_type": "display_data",
          "data": {
            "text/plain": [
              "<Figure size 421.125x360 with 1 Axes>"
            ],
            "image/png": "[encoded data removed]"
          },
          "metadata": {
            "needs_background": "light"
          }
        }
      ]
    },
    {
      "cell_type": "markdown",
      "source": [
        "### Verificando as regressões lineares em um mesmo grafico para ficar mais facil comparar, tudo indica que \"Tecnologia\" não é moderadora pois não é possivel observar um comportamento significativamente diferente entre \"Interação\" e \"Aprendizagem\" quando filtramos as amostragem em quartis com base na \"Tecnologia\""
      ],
      "metadata": {
        "id": "c-Qp_IklOnW0"
      }
    },
    {
      "cell_type": "markdown",
      "source": [
        "Vamos agora separar os quartis em tabelas diferentes com o intuito de encontrar o valor numérico dos coeficientes das retas de cada quartil."
      ],
      "metadata": {
        "id": "u0u58OaKO4fT"
      }
    },
    {
      "cell_type": "code",
      "source": [
        "tabela_25 = tabela.query( f'Tecnologia <= {tabela.Tecnologia.quantile(0.25)}')\n",
        "tabela_25_50 = tabela.query( f'Tecnologia <= {tabela.Tecnologia.quantile(0.5)} and Tecnologia > {tabela.Tecnologia.quantile(0.25)}')\n",
        "tabela_50_75 = tabela.query( f'Tecnologia <= {tabela.Tecnologia.quantile(0.75)} and Tecnologia > {tabela.Tecnologia.quantile(0.5)}')\n",
        "tabela_75_100 = tabela.query( f'Tecnologia > {tabela.Tecnologia.quantile(0.75)}')"
      ],
      "metadata": {
        "id": "b6Q1PkiU-FO6"
      },
      "execution_count": null,
      "outputs": []
    },
    {
      "cell_type": "code",
      "source": [
        "print(tabela_25.shape)\n",
        "print(tabela_25_50.shape)\n",
        "print(tabela_50_75.shape)\n",
        "print(tabela_75_100.shape)"
      ],
      "metadata": {
        "colab": {
          "base_uri": "https://localhost:8080/"
        },
        "id": "L44Wk8Iy-FR8",
        "outputId": "5c6e57a6-26d6-462e-914b-1c57312f1673"
      },
      "execution_count": null,
      "outputs": [
        {
          "output_type": "stream",
          "name": "stdout",
          "text": [
            "(80, 11)\n",
            "(78, 11)\n",
            "(74, 11)\n",
            "(78, 11)\n"
          ]
        }
      ]
    },
    {
      "cell_type": "code",
      "source": [
        "import seaborn as sns\n",
        "from scipy import stats\n",
        "\n",
        "# get coeffs of linear fit\n",
        "slope, intercept, r_value, p_value, std_err = stats.linregress(tabela_25.Interacao,tabela_25.Aprendizagem)\n",
        "\n",
        "# use line_kws to set line label for legend\n",
        "ax = sns.regplot(x=\"Interacao\", y=\"Aprendizagem\", data=tabela_25, color='b', \n",
        " line_kws={'label':\"y={0:.1f}x+{1:.1f}\".format(slope,intercept)})\n",
        "\n",
        "# plot legend\n",
        "ax.legend()\n",
        "#sns.regplot(x=\"Interacao\", y=\"Aprendizagem\", data=tabela_25)"
      ],
      "metadata": {
        "colab": {
          "base_uri": "https://localhost:8080/",
          "height": 299
        },
        "id": "9ekBOnPV-FU6",
        "outputId": "273d811c-0f9c-4794-eeae-d322ed6f91db"
      },
      "execution_count": null,
      "outputs": [
        {
          "output_type": "execute_result",
          "data": {
            "text/plain": [
              "<matplotlib.legend.Legend at 0x7fe52c3d8850>"
            ]
          },
          "metadata": {},
          "execution_count": 116
        },
        {
          "output_type": "display_data",
          "data": {
            "text/plain": [
              "<Figure size 432x288 with 1 Axes>"
            ],
            "image/png": "[encoded data removed]"
          },
          "metadata": {
            "needs_background": "light"
          }
        }
      ]
    },
    {
      "cell_type": "code",
      "source": [
        "#sns.regplot(x=\"Interacao\", y=\"Aprendizagem\", data=tabela_25_50)\n",
        "slope, intercept, r_value, p_value, std_err = stats.linregress(tabela_25_50.Interacao,tabela_25_50.Aprendizagem)\n",
        "\n",
        "# use line_kws to set line label for legend\n",
        "ax = sns.regplot(x=\"Interacao\", y=\"Aprendizagem\", data=tabela_25_50, color='r', \n",
        " line_kws={'label':\"y={0:.1f}x+{1:.1f}\".format(slope,intercept)})\n",
        "\n",
        "# plot legend\n",
        "ax.legend()"
      ],
      "metadata": {
        "colab": {
          "base_uri": "https://localhost:8080/",
          "height": 296
        },
        "id": "KzIxkLf1922V",
        "outputId": "b607bdaa-0641-4813-9d57-151dd0623b0c"
      },
      "execution_count": null,
      "outputs": [
        {
          "output_type": "execute_result",
          "data": {
            "text/plain": [
              "<matplotlib.legend.Legend at 0x7fe52a8206d0>"
            ]
          },
          "metadata": {},
          "execution_count": 118
        },
        {
          "output_type": "display_data",
          "data": {
            "text/plain": [
              "<Figure size 432x288 with 1 Axes>"
            ],
            "image/png": "[encoded data removed]"
          },
          "metadata": {
            "needs_background": "light"
          }
        }
      ]
    },
    {
      "cell_type": "code",
      "source": [
        "#sns.regplot(x=\"Interacao\", y=\"Aprendizagem\", data=tabela_25_50)\n",
        "slope, intercept, r_value, p_value, std_err = stats.linregress(tabela_50_75.Interacao,tabela_50_75.Aprendizagem)\n",
        "\n",
        "# use line_kws to set line label for legend\n",
        "ax = sns.regplot(x=\"Interacao\", y=\"Aprendizagem\", data=tabela_50_75, color='g', \n",
        " line_kws={'label':\"y={0:.1f}x+{1:.1f}\".format(slope,intercept)})\n",
        "\n",
        "# plot legend\n",
        "ax.legend()"
      ],
      "metadata": {
        "colab": {
          "base_uri": "https://localhost:8080/",
          "height": 296
        },
        "id": "-8aERCYv927z",
        "outputId": "73216fdd-8952-4c8c-dcec-d839ecd208c4"
      },
      "execution_count": null,
      "outputs": [
        {
          "output_type": "execute_result",
          "data": {
            "text/plain": [
              "<matplotlib.legend.Legend at 0x7fe52c1e82d0>"
            ]
          },
          "metadata": {},
          "execution_count": 119
        },
        {
          "output_type": "display_data",
          "data": {
            "text/plain": [
              "<Figure size 432x288 with 1 Axes>"
            ],
            "image/png": "[encoded data removed]"
          },
          "metadata": {
            "needs_background": "light"
          }
        }
      ]
    },
    {
      "cell_type": "code",
      "source": [
        "\n",
        "#sns.regplot(x=\"Interacao\", y=\"Aprendizagem\", data=tabela_25_50)\n",
        "slope, intercept, r_value, p_value, std_err = stats.linregress(tabela_75_100.Interacao,tabela_75_100.Aprendizagem)\n",
        "\n",
        "# use line_kws to set line label for legend\n",
        "ax = sns.regplot(x=\"Interacao\", y=\"Aprendizagem\", data=tabela_75_100, color='orange', \n",
        " line_kws={'label':\"y={0:.1f}x+{1:.1f}\".format(slope,intercept)})\n",
        "\n",
        "# plot legend\n",
        "ax.legend()"
      ],
      "metadata": {
        "colab": {
          "base_uri": "https://localhost:8080/",
          "height": 296
        },
        "id": "_n7Mi5Fg925O",
        "outputId": "5dfcd11f-965f-4db2-9fc1-b04df1b795c1"
      },
      "execution_count": null,
      "outputs": [
        {
          "output_type": "execute_result",
          "data": {
            "text/plain": [
              "<matplotlib.legend.Legend at 0x7fe52c36e490>"
            ]
          },
          "metadata": {},
          "execution_count": 125
        },
        {
          "output_type": "display_data",
          "data": {
            "text/plain": [
              "<Figure size 432x288 with 1 Axes>"
            ],
            "image/png": "[encoded data removed]"
          },
          "metadata": {
            "needs_background": "light"
          }
        }
      ]
    },
    {
      "cell_type": "markdown",
      "source": [
        "## Como foi possivel observar nas equaçoes de cada quartil, a variação do coeficiente de inclinação das retas varia entre 0.8 e 0.9, o que é suficiente para afirmar que \"Tecnologia\" não esta atuando como uma variavel moderadora entre \"Interação\" e \"Tecnologia\"."
      ],
      "metadata": {
        "id": "8NWveawGPNoF"
      }
    }
  ]
}